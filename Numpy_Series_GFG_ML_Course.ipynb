{
  "nbformat": 4,
  "nbformat_minor": 0,
  "metadata": {
    "colab": {
      "provenance": [],
      "authorship_tag": "ABX9TyNwNHsosc5IJvQhw1vVDJTN",
      "include_colab_link": true
    },
    "kernelspec": {
      "name": "python3",
      "display_name": "Python 3"
    },
    "language_info": {
      "name": "python"
    }
  },
  "cells": [
    {
      "cell_type": "markdown",
      "metadata": {
        "id": "view-in-github",
        "colab_type": "text"
      },
      "source": [
        "<a href=\"https://colab.research.google.com/github/AbhilashJoshi25/Data_Science_And_ML/blob/main/Numpy_Series_GFG_ML_Course.ipynb\" target=\"_parent\"><img src=\"https://colab.research.google.com/assets/colab-badge.svg\" alt=\"Open In Colab\"/></a>"
      ]
    },
    {
      "cell_type": "code",
      "execution_count": null,
      "metadata": {
        "colab": {
          "base_uri": "https://localhost:8080/"
        },
        "id": "8iDpYW_sV0He",
        "outputId": "6f03141d-3166-4395-8ff5-ca7fb007e1e4"
      },
      "outputs": [
        {
          "output_type": "stream",
          "name": "stdout",
          "text": [
            "Requirement already satisfied: numpy in /usr/local/lib/python3.10/dist-packages (1.23.5)\n"
          ]
        }
      ],
      "source": [
        "!pip install numpy"
      ]
    },
    {
      "cell_type": "code",
      "source": [
        "import numpy as np"
      ],
      "metadata": {
        "id": "HVdB-YgcWX1T"
      },
      "execution_count": null,
      "outputs": []
    },
    {
      "cell_type": "code",
      "source": [
        "np"
      ],
      "metadata": {
        "colab": {
          "base_uri": "https://localhost:8080/"
        },
        "id": "8Sg4LqaEWflU",
        "outputId": "c103b246-1532-4981-fd8b-00a2f986b494"
      },
      "execution_count": null,
      "outputs": [
        {
          "output_type": "execute_result",
          "data": {
            "text/plain": [
              "<module 'numpy' from '/usr/local/lib/python3.8/dist-packages/numpy/__init__.py'>"
            ]
          },
          "metadata": {},
          "execution_count": 4
        }
      ]
    },
    {
      "cell_type": "code",
      "source": [
        "lst = [[1, 2, 3], [1, 21, 3], [2, 5, 7]]"
      ],
      "metadata": {
        "id": "H9jX1h7-WrWT"
      },
      "execution_count": null,
      "outputs": []
    },
    {
      "cell_type": "code",
      "source": [
        "type(lst)"
      ],
      "metadata": {
        "colab": {
          "base_uri": "https://localhost:8080/"
        },
        "id": "yaut_UfgW1Y6",
        "outputId": "8c675edc-935a-4aab-e79d-69b367fea5c1"
      },
      "execution_count": null,
      "outputs": [
        {
          "output_type": "execute_result",
          "data": {
            "text/plain": [
              "list"
            ]
          },
          "metadata": {},
          "execution_count": 4
        }
      ]
    },
    {
      "cell_type": "code",
      "source": [
        "arr = np.array(lst)"
      ],
      "metadata": {
        "id": "3eSGCTKNW2qR"
      },
      "execution_count": null,
      "outputs": []
    },
    {
      "cell_type": "code",
      "source": [
        "arr"
      ],
      "metadata": {
        "colab": {
          "base_uri": "https://localhost:8080/"
        },
        "id": "_m7Bq9FMXCAq",
        "outputId": "cfa4dad8-2cdd-431f-a413-ba2987db5346"
      },
      "execution_count": null,
      "outputs": [
        {
          "output_type": "execute_result",
          "data": {
            "text/plain": [
              "array([1, 2, 3, 4, 5, 6, 7])"
            ]
          },
          "metadata": {},
          "execution_count": 56
        }
      ]
    },
    {
      "cell_type": "code",
      "source": [
        "type(arr)"
      ],
      "metadata": {
        "colab": {
          "base_uri": "https://localhost:8080/"
        },
        "id": "Hu5W5cUfXC0j",
        "outputId": "c6875139-57ae-467e-91ee-6794da9df22c"
      },
      "execution_count": null,
      "outputs": [
        {
          "output_type": "execute_result",
          "data": {
            "text/plain": [
              "numpy.ndarray"
            ]
          },
          "metadata": {},
          "execution_count": 6
        }
      ]
    },
    {
      "cell_type": "code",
      "source": [
        "arr.ndim"
      ],
      "metadata": {
        "colab": {
          "base_uri": "https://localhost:8080/"
        },
        "id": "2beDtxKCXE1D",
        "outputId": "99159b16-bd44-4279-b1be-db9658b4bdda"
      },
      "execution_count": null,
      "outputs": [
        {
          "output_type": "execute_result",
          "data": {
            "text/plain": [
              "2"
            ]
          },
          "metadata": {},
          "execution_count": 7
        }
      ]
    },
    {
      "cell_type": "code",
      "source": [
        "arr.shape"
      ],
      "metadata": {
        "colab": {
          "base_uri": "https://localhost:8080/"
        },
        "id": "G4eA7cZyXUsi",
        "outputId": "f9415541-b5be-49b9-82b6-b95c0bb0a5fe"
      },
      "execution_count": null,
      "outputs": [
        {
          "output_type": "execute_result",
          "data": {
            "text/plain": [
              "(3, 3)"
            ]
          },
          "metadata": {},
          "execution_count": 8
        }
      ]
    },
    {
      "cell_type": "code",
      "source": [
        "arr.size"
      ],
      "metadata": {
        "colab": {
          "base_uri": "https://localhost:8080/"
        },
        "id": "LFYNCsyaYEVy",
        "outputId": "ecc2d017-d331-4bb5-9584-98ee682a6409"
      },
      "execution_count": null,
      "outputs": [
        {
          "output_type": "execute_result",
          "data": {
            "text/plain": [
              "9"
            ]
          },
          "metadata": {},
          "execution_count": 9
        }
      ]
    },
    {
      "cell_type": "code",
      "source": [
        "arr.dtype"
      ],
      "metadata": {
        "colab": {
          "base_uri": "https://localhost:8080/"
        },
        "id": "d0f_pjyXYJbM",
        "outputId": "5ca73a76-f920-4c7a-bd02-2895873bcc84"
      },
      "execution_count": null,
      "outputs": [
        {
          "output_type": "execute_result",
          "data": {
            "text/plain": [
              "dtype('int64')"
            ]
          },
          "metadata": {},
          "execution_count": 10
        }
      ]
    },
    {
      "cell_type": "code",
      "source": [
        "np.zeros((5, 3))"
      ],
      "metadata": {
        "colab": {
          "base_uri": "https://localhost:8080/"
        },
        "id": "IPO-9GKsYM1b",
        "outputId": "5b9f9f3e-7938-4634-aeba-9d3ee74b0f52"
      },
      "execution_count": null,
      "outputs": [
        {
          "output_type": "execute_result",
          "data": {
            "text/plain": [
              "array([[0., 0., 0.],\n",
              "       [0., 0., 0.],\n",
              "       [0., 0., 0.],\n",
              "       [0., 0., 0.],\n",
              "       [0., 0., 0.]])"
            ]
          },
          "metadata": {},
          "execution_count": 11
        }
      ]
    },
    {
      "cell_type": "code",
      "source": [
        "np.ones((8,9))"
      ],
      "metadata": {
        "colab": {
          "base_uri": "https://localhost:8080/"
        },
        "id": "lz5Gh93YYi3z",
        "outputId": "c550fbdb-e8bc-4eac-b8ea-342479caec89"
      },
      "execution_count": null,
      "outputs": [
        {
          "output_type": "execute_result",
          "data": {
            "text/plain": [
              "array([[1., 1., 1., 1., 1., 1., 1., 1., 1.],\n",
              "       [1., 1., 1., 1., 1., 1., 1., 1., 1.],\n",
              "       [1., 1., 1., 1., 1., 1., 1., 1., 1.],\n",
              "       [1., 1., 1., 1., 1., 1., 1., 1., 1.],\n",
              "       [1., 1., 1., 1., 1., 1., 1., 1., 1.],\n",
              "       [1., 1., 1., 1., 1., 1., 1., 1., 1.],\n",
              "       [1., 1., 1., 1., 1., 1., 1., 1., 1.],\n",
              "       [1., 1., 1., 1., 1., 1., 1., 1., 1.]])"
            ]
          },
          "metadata": {},
          "execution_count": 12
        }
      ]
    },
    {
      "cell_type": "code",
      "source": [
        "np.random.random((5, 4))"
      ],
      "metadata": {
        "colab": {
          "base_uri": "https://localhost:8080/"
        },
        "id": "mdwqDdLXY2L8",
        "outputId": "677b8836-fd0f-49ab-8c0a-5fc5b532261a"
      },
      "execution_count": null,
      "outputs": [
        {
          "output_type": "execute_result",
          "data": {
            "text/plain": [
              "array([[0.56397171, 0.16269863, 0.43001693, 0.23481962],\n",
              "       [0.47127443, 0.94060989, 0.05830298, 0.44104792],\n",
              "       [0.14499603, 0.2775339 , 0.69063396, 0.56207081],\n",
              "       [0.8073254 , 0.58675054, 0.65053248, 0.48523321],\n",
              "       [0.91450641, 0.18066911, 0.21001243, 0.69436908]])"
            ]
          },
          "metadata": {},
          "execution_count": 13
        }
      ]
    },
    {
      "cell_type": "code",
      "source": [
        "arr = np.random.random((5, 4))"
      ],
      "metadata": {
        "id": "amCRcAfraQzP"
      },
      "execution_count": null,
      "outputs": []
    },
    {
      "cell_type": "code",
      "source": [
        "np.random.random()"
      ],
      "metadata": {
        "colab": {
          "base_uri": "https://localhost:8080/"
        },
        "id": "QIW-OFJZaW5t",
        "outputId": "dceb41ea-7d1b-41e5-e66d-e9f50cc6a799"
      },
      "execution_count": null,
      "outputs": [
        {
          "output_type": "execute_result",
          "data": {
            "text/plain": [
              "0.7663854330752389"
            ]
          },
          "metadata": {},
          "execution_count": 15
        }
      ]
    },
    {
      "cell_type": "code",
      "source": [
        "x = np.random.random()\n",
        "if x > 0.5:\n",
        "  print(\"Number = {}\".format (x))\n",
        "else:\n",
        "  print(\"Number less than 0.5\")"
      ],
      "metadata": {
        "colab": {
          "base_uri": "https://localhost:8080/"
        },
        "id": "qZf5wNSEam13",
        "outputId": "31541080-e80b-4c56-fddb-66145e4ad956"
      },
      "execution_count": null,
      "outputs": [
        {
          "output_type": "stream",
          "name": "stdout",
          "text": [
            "Number = 0.7955441675071767\n"
          ]
        }
      ]
    },
    {
      "cell_type": "code",
      "source": [
        "np.arange(2, 10, 2)"
      ],
      "metadata": {
        "colab": {
          "base_uri": "https://localhost:8080/"
        },
        "id": "i99gyiB5bIJn",
        "outputId": "3d90b067-bcc8-4800-fa66-550c6fa46e8e"
      },
      "execution_count": null,
      "outputs": [
        {
          "output_type": "execute_result",
          "data": {
            "text/plain": [
              "array([2, 4, 6, 8])"
            ]
          },
          "metadata": {},
          "execution_count": 23
        }
      ]
    },
    {
      "cell_type": "code",
      "source": [
        "np.linspace(1, 10, 10)"
      ],
      "metadata": {
        "colab": {
          "base_uri": "https://localhost:8080/"
        },
        "id": "_iqpio9ibY11",
        "outputId": "3ea04d01-de9b-400b-dd46-b8e922c68ec3"
      },
      "execution_count": null,
      "outputs": [
        {
          "output_type": "execute_result",
          "data": {
            "text/plain": [
              "array([ 1.,  2.,  3.,  4.,  5.,  6.,  7.,  8.,  9., 10.])"
            ]
          },
          "metadata": {},
          "execution_count": 24
        }
      ]
    },
    {
      "cell_type": "code",
      "source": [
        "np.linspace(1, 7, 81)"
      ],
      "metadata": {
        "colab": {
          "base_uri": "https://localhost:8080/"
        },
        "id": "2JaH8-fBcSgW",
        "outputId": "7d5e63c3-6da4-41c0-cce9-70a1c4d8d971"
      },
      "execution_count": null,
      "outputs": [
        {
          "output_type": "execute_result",
          "data": {
            "text/plain": [
              "array([1.   , 1.075, 1.15 , 1.225, 1.3  , 1.375, 1.45 , 1.525, 1.6  ,\n",
              "       1.675, 1.75 , 1.825, 1.9  , 1.975, 2.05 , 2.125, 2.2  , 2.275,\n",
              "       2.35 , 2.425, 2.5  , 2.575, 2.65 , 2.725, 2.8  , 2.875, 2.95 ,\n",
              "       3.025, 3.1  , 3.175, 3.25 , 3.325, 3.4  , 3.475, 3.55 , 3.625,\n",
              "       3.7  , 3.775, 3.85 , 3.925, 4.   , 4.075, 4.15 , 4.225, 4.3  ,\n",
              "       4.375, 4.45 , 4.525, 4.6  , 4.675, 4.75 , 4.825, 4.9  , 4.975,\n",
              "       5.05 , 5.125, 5.2  , 5.275, 5.35 , 5.425, 5.5  , 5.575, 5.65 ,\n",
              "       5.725, 5.8  , 5.875, 5.95 , 6.025, 6.1  , 6.175, 6.25 , 6.325,\n",
              "       6.4  , 6.475, 6.55 , 6.625, 6.7  , 6.775, 6.85 , 6.925, 7.   ])"
            ]
          },
          "metadata": {},
          "execution_count": 5
        }
      ]
    },
    {
      "cell_type": "code",
      "source": [
        "arr = np.random.random((4, 3))"
      ],
      "metadata": {
        "id": "1txanKBzcZfu"
      },
      "execution_count": null,
      "outputs": []
    },
    {
      "cell_type": "code",
      "source": [
        "arr"
      ],
      "metadata": {
        "id": "oLe_3mwYdB3H",
        "colab": {
          "base_uri": "https://localhost:8080/"
        },
        "outputId": "eeac044a-a6bf-46f9-ad45-f6dbb036eba4"
      },
      "execution_count": null,
      "outputs": [
        {
          "output_type": "execute_result",
          "data": {
            "text/plain": [
              "array([[0.6754457 , 0.94758782, 0.69982705],\n",
              "       [0.46058055, 0.60967914, 0.44184929],\n",
              "       [0.62611667, 0.35244348, 0.70296806],\n",
              "       [0.06931622, 0.46171626, 0.3934769 ]])"
            ]
          },
          "metadata": {},
          "execution_count": 26
        }
      ]
    },
    {
      "cell_type": "code",
      "source": [
        "arr = np.reshape(arr, (3, 4))"
      ],
      "metadata": {
        "id": "5oMdkgA9dLbX"
      },
      "execution_count": null,
      "outputs": []
    },
    {
      "cell_type": "code",
      "source": [
        "arr"
      ],
      "metadata": {
        "colab": {
          "base_uri": "https://localhost:8080/"
        },
        "id": "O0Ehtb5jdu6w",
        "outputId": "b5aaf587-29e1-423b-9e4b-4d967be2396d"
      },
      "execution_count": null,
      "outputs": [
        {
          "output_type": "execute_result",
          "data": {
            "text/plain": [
              "array([[0.6754457 , 0.94758782, 0.69982705, 0.46058055],\n",
              "       [0.60967914, 0.44184929, 0.62611667, 0.35244348],\n",
              "       [0.70296806, 0.06931622, 0.46171626, 0.3934769 ]])"
            ]
          },
          "metadata": {},
          "execution_count": 29
        }
      ]
    },
    {
      "cell_type": "code",
      "source": [
        "arr.shape"
      ],
      "metadata": {
        "colab": {
          "base_uri": "https://localhost:8080/"
        },
        "id": "TmPOkm9UTgha",
        "outputId": "34185baa-fcbd-452c-ff7b-387cfe541cff"
      },
      "execution_count": null,
      "outputs": [
        {
          "output_type": "execute_result",
          "data": {
            "text/plain": [
              "(3, 4)"
            ]
          },
          "metadata": {},
          "execution_count": 30
        }
      ]
    },
    {
      "cell_type": "code",
      "source": [
        "arr.ndim"
      ],
      "metadata": {
        "colab": {
          "base_uri": "https://localhost:8080/"
        },
        "id": "mBP1iKhZTj0W",
        "outputId": "7c06a378-9f09-4593-8077-cbeb584f9d27"
      },
      "execution_count": null,
      "outputs": [
        {
          "output_type": "execute_result",
          "data": {
            "text/plain": [
              "2"
            ]
          },
          "metadata": {},
          "execution_count": 32
        }
      ]
    },
    {
      "cell_type": "code",
      "source": [
        "arr.flatten()"
      ],
      "metadata": {
        "colab": {
          "base_uri": "https://localhost:8080/"
        },
        "id": "V5MPkQf1dvfX",
        "outputId": "d231dde7-c662-4b92-aebd-5d9b74b6797a"
      },
      "execution_count": null,
      "outputs": [
        {
          "output_type": "execute_result",
          "data": {
            "text/plain": [
              "array([0.6754457 , 0.94758782, 0.69982705, 0.46058055, 0.60967914,\n",
              "       0.44184929, 0.62611667, 0.35244348, 0.70296806, 0.06931622,\n",
              "       0.46171626, 0.3934769 ])"
            ]
          },
          "metadata": {},
          "execution_count": 33
        }
      ]
    },
    {
      "cell_type": "code",
      "source": [
        "arr = np.array([1,2,3,4,5,6,7])"
      ],
      "metadata": {
        "id": "CNMv7UNJd0KA"
      },
      "execution_count": null,
      "outputs": []
    },
    {
      "cell_type": "code",
      "source": [
        "arr + 1"
      ],
      "metadata": {
        "colab": {
          "base_uri": "https://localhost:8080/"
        },
        "id": "IEtkMhfmFp8B",
        "outputId": "608b149e-28db-427e-c4b9-570df9bb175c"
      },
      "execution_count": null,
      "outputs": [
        {
          "output_type": "execute_result",
          "data": {
            "text/plain": [
              "array([2, 3, 4, 5, 6, 7, 8])"
            ]
          },
          "metadata": {},
          "execution_count": 50
        }
      ]
    },
    {
      "cell_type": "code",
      "source": [
        "arr - 1"
      ],
      "metadata": {
        "colab": {
          "base_uri": "https://localhost:8080/"
        },
        "id": "uFe2BR0tF1tA",
        "outputId": "ccaf5009-27bc-4c3b-b5ff-58c4b3116c9f"
      },
      "execution_count": null,
      "outputs": [
        {
          "output_type": "execute_result",
          "data": {
            "text/plain": [
              "array([0, 1, 2, 3, 4, 5, 6])"
            ]
          },
          "metadata": {},
          "execution_count": 58
        }
      ]
    },
    {
      "cell_type": "code",
      "source": [
        "arr"
      ],
      "metadata": {
        "colab": {
          "base_uri": "https://localhost:8080/"
        },
        "id": "lh6UOvIkT5E1",
        "outputId": "6ece5f22-ad6b-46a4-92ba-f9337723fdcf"
      },
      "execution_count": null,
      "outputs": [
        {
          "output_type": "execute_result",
          "data": {
            "text/plain": [
              "array([1, 2, 3, 4, 5, 6, 7])"
            ]
          },
          "metadata": {},
          "execution_count": 39
        }
      ]
    },
    {
      "cell_type": "code",
      "source": [
        "arr * 5"
      ],
      "metadata": {
        "colab": {
          "base_uri": "https://localhost:8080/"
        },
        "id": "netmZmgeF7HH",
        "outputId": "72a5d8b9-7935-44f1-a84f-763ebacbe28a"
      },
      "execution_count": null,
      "outputs": [
        {
          "output_type": "execute_result",
          "data": {
            "text/plain": [
              "array([ 5, 10, 15, 20, 25, 30, 35])"
            ]
          },
          "metadata": {},
          "execution_count": 53
        }
      ]
    },
    {
      "cell_type": "code",
      "source": [
        "arr / 5"
      ],
      "metadata": {
        "colab": {
          "base_uri": "https://localhost:8080/"
        },
        "id": "K86YQzY8F8rf",
        "outputId": "b496621f-33a1-43b9-8fb6-483a3070ca1a"
      },
      "execution_count": null,
      "outputs": [
        {
          "output_type": "execute_result",
          "data": {
            "text/plain": [
              "array([0.2, 0.4, 0.6, 0.8, 1. , 1.2, 1.4])"
            ]
          },
          "metadata": {},
          "execution_count": 54
        }
      ]
    },
    {
      "cell_type": "code",
      "source": [
        "print(arr + 1)\n",
        "print(arr - 1)\n",
        "print(arr * 5)\n",
        "print(arr / 2)\n",
        "print(arr % 2)\n",
        "print(arr ** 4)"
      ],
      "metadata": {
        "colab": {
          "base_uri": "https://localhost:8080/"
        },
        "id": "2xEi0f4QF_14",
        "outputId": "ae5e3c50-7c17-40c4-9966-03a284715f02"
      },
      "execution_count": null,
      "outputs": [
        {
          "output_type": "stream",
          "name": "stdout",
          "text": [
            "[2 3 4 5 6 7 8]\n",
            "[0 1 2 3 4 5 6]\n",
            "[ 5 10 15 20 25 30 35]\n",
            "[0.5 1.  1.5 2.  2.5 3.  3.5]\n",
            "[1 0 1 0 1 0 1]\n",
            "[   1   16   81  256  625 1296 2401]\n"
          ]
        }
      ]
    },
    {
      "cell_type": "code",
      "source": [
        "from IPython.display import Image\n",
        "try:\n",
        "  filename = take_photo()\n",
        "  print('Saved to {}'.format(filename))\n",
        "\n",
        "  # Show the image which was just taken.\n",
        "  display(Image(filename))\n",
        "except Exception as err:\n",
        "  # Errors will be thrown if the user does not have a webcam or if they do not\n",
        "  # grant the page permission to access it.\n",
        "  print(str(err))"
      ],
      "metadata": {
        "id": "spHLREO-QKQR",
        "colab": {
          "base_uri": "https://localhost:8080/"
        },
        "outputId": "865fc551-a423-477b-e637-906ab97a2085"
      },
      "execution_count": null,
      "outputs": [
        {
          "output_type": "stream",
          "name": "stdout",
          "text": [
            "name 'take_photo' is not defined\n"
          ]
        }
      ]
    },
    {
      "cell_type": "code",
      "source": [
        "arr =+ 1"
      ],
      "metadata": {
        "id": "E960zjNfGfpI"
      },
      "execution_count": null,
      "outputs": []
    },
    {
      "cell_type": "code",
      "source": [
        "arr =  np.array([2, 3, 4, 5, 6, 7, 8])"
      ],
      "metadata": {
        "id": "IHh1hghhHFX4"
      },
      "execution_count": null,
      "outputs": []
    },
    {
      "cell_type": "code",
      "source": [
        "arr += 1\n"
      ],
      "metadata": {
        "id": "q976QtnDHGSg"
      },
      "execution_count": null,
      "outputs": []
    },
    {
      "cell_type": "code",
      "source": [
        "arr"
      ],
      "metadata": {
        "colab": {
          "base_uri": "https://localhost:8080/"
        },
        "id": "TwtbjqvZHfM3",
        "outputId": "13d4de29-ac08-4809-ae18-f2d000ed2e86"
      },
      "execution_count": null,
      "outputs": [
        {
          "output_type": "execute_result",
          "data": {
            "text/plain": [
              "array([3, 4, 5, 6, 7, 8, 9])"
            ]
          },
          "metadata": {},
          "execution_count": 64
        }
      ]
    },
    {
      "cell_type": "code",
      "source": [
        "arr *= 2"
      ],
      "metadata": {
        "id": "ik3-XI5bHh8O"
      },
      "execution_count": null,
      "outputs": []
    },
    {
      "cell_type": "code",
      "source": [
        "arr"
      ],
      "metadata": {
        "colab": {
          "base_uri": "https://localhost:8080/"
        },
        "id": "B0a-AzKDH1ln",
        "outputId": "b8f051fa-fec4-4fa0-ce7d-e23798fc7c40"
      },
      "execution_count": null,
      "outputs": [
        {
          "output_type": "execute_result",
          "data": {
            "text/plain": [
              "array([ 6,  8, 10, 12, 14, 16, 18])"
            ]
          },
          "metadata": {},
          "execution_count": 66
        }
      ]
    },
    {
      "cell_type": "code",
      "source": [
        "arr.max()"
      ],
      "metadata": {
        "colab": {
          "base_uri": "https://localhost:8080/"
        },
        "id": "L--0GHiDH2Fu",
        "outputId": "0a230084-5589-4d6d-fe16-a621f38a0d72"
      },
      "execution_count": null,
      "outputs": [
        {
          "output_type": "execute_result",
          "data": {
            "text/plain": [
              "18"
            ]
          },
          "metadata": {},
          "execution_count": 67
        }
      ]
    },
    {
      "cell_type": "code",
      "source": [
        "arr.min()"
      ],
      "metadata": {
        "colab": {
          "base_uri": "https://localhost:8080/"
        },
        "id": "LnQY36_QH39_",
        "outputId": "959f6deb-073b-4f93-da3e-52e57da4ecf6"
      },
      "execution_count": null,
      "outputs": [
        {
          "output_type": "execute_result",
          "data": {
            "text/plain": [
              "6"
            ]
          },
          "metadata": {},
          "execution_count": 68
        }
      ]
    },
    {
      "cell_type": "code",
      "source": [
        "arr = np.array([[1,2,3], [2,4,6],[8,1, 5]])"
      ],
      "metadata": {
        "id": "fCMmExYfH5mO"
      },
      "execution_count": null,
      "outputs": []
    },
    {
      "cell_type": "code",
      "source": [
        "arr"
      ],
      "metadata": {
        "colab": {
          "base_uri": "https://localhost:8080/"
        },
        "id": "jdpQj4VfILbn",
        "outputId": "ba43550b-5836-4829-ba4d-0abf436b150c"
      },
      "execution_count": null,
      "outputs": [
        {
          "output_type": "execute_result",
          "data": {
            "text/plain": [
              "array([[1, 2, 3],\n",
              "       [2, 4, 6],\n",
              "       [8, 1, 5]])"
            ]
          },
          "metadata": {},
          "execution_count": 70
        }
      ]
    },
    {
      "cell_type": "code",
      "source": [
        "arr.max(axis = 0) #Maximum element column wise 0 represent column"
      ],
      "metadata": {
        "colab": {
          "base_uri": "https://localhost:8080/"
        },
        "id": "RWlswn3eIL9d",
        "outputId": "4536cf9d-e0a5-4450-c5a5-f28640151553"
      },
      "execution_count": null,
      "outputs": [
        {
          "output_type": "execute_result",
          "data": {
            "text/plain": [
              "array([8, 4, 6])"
            ]
          },
          "metadata": {},
          "execution_count": 73
        }
      ]
    },
    {
      "cell_type": "code",
      "source": [
        "arr.max(axis = 1) #Maximum element row wise 1 represent row"
      ],
      "metadata": {
        "colab": {
          "base_uri": "https://localhost:8080/"
        },
        "id": "31Ja6iW1IPwt",
        "outputId": "9407f677-3ab9-4887-b424-1821dad30e50"
      },
      "execution_count": null,
      "outputs": [
        {
          "output_type": "execute_result",
          "data": {
            "text/plain": [
              "array([3, 6, 8])"
            ]
          },
          "metadata": {},
          "execution_count": 72
        }
      ]
    },
    {
      "cell_type": "code",
      "source": [
        "arr.min(axis = 1)"
      ],
      "metadata": {
        "colab": {
          "base_uri": "https://localhost:8080/"
        },
        "id": "14av0263IZyX",
        "outputId": "4cf7722a-f224-4bff-d6ec-f6981074c6d4"
      },
      "execution_count": null,
      "outputs": [
        {
          "output_type": "execute_result",
          "data": {
            "text/plain": [
              "array([1, 2, 1])"
            ]
          },
          "metadata": {},
          "execution_count": 74
        }
      ]
    },
    {
      "cell_type": "code",
      "source": [
        "arr.min(axis = 0)"
      ],
      "metadata": {
        "colab": {
          "base_uri": "https://localhost:8080/"
        },
        "id": "in7erZaPIiLV",
        "outputId": "5736f634-9350-442c-dd6c-1dfbfccec250"
      },
      "execution_count": null,
      "outputs": [
        {
          "output_type": "execute_result",
          "data": {
            "text/plain": [
              "array([1, 1, 3])"
            ]
          },
          "metadata": {},
          "execution_count": 75
        }
      ]
    },
    {
      "cell_type": "code",
      "source": [
        "arr.sum() #Sum of all elements of the array"
      ],
      "metadata": {
        "colab": {
          "base_uri": "https://localhost:8080/"
        },
        "id": "bjBiP7UeInfl",
        "outputId": "5f2bc13e-808d-4b22-f8ca-a976351e1e80"
      },
      "execution_count": null,
      "outputs": [
        {
          "output_type": "execute_result",
          "data": {
            "text/plain": [
              "32"
            ]
          },
          "metadata": {},
          "execution_count": 76
        }
      ]
    },
    {
      "cell_type": "code",
      "source": [
        "9*9"
      ],
      "metadata": {
        "id": "Vd6BeW1JIqPf",
        "colab": {
          "base_uri": "https://localhost:8080/"
        },
        "outputId": "d07b7315-9662-4460-c1d3-ca24cbe2cd3c"
      },
      "execution_count": null,
      "outputs": [
        {
          "output_type": "execute_result",
          "data": {
            "text/plain": [
              "81"
            ]
          },
          "metadata": {},
          "execution_count": 77
        }
      ]
    },
    {
      "cell_type": "code",
      "source": [
        "arr1 = np.array([[1, 2, 3],\n",
        "                 [4, 5, 6,],\n",
        "                 [7, 8, 9]])"
      ],
      "metadata": {
        "id": "S6yNvXQdQYow"
      },
      "execution_count": null,
      "outputs": []
    },
    {
      "cell_type": "code",
      "source": [
        "arr2 = np.array([[9, 8, 7],\n",
        "                 [6, 5, 4],\n",
        "                 [3, 2, 1]])"
      ],
      "metadata": {
        "id": "QOxXob1gQYzQ"
      },
      "execution_count": null,
      "outputs": []
    },
    {
      "cell_type": "code",
      "source": [
        "arr1"
      ],
      "metadata": {
        "colab": {
          "base_uri": "https://localhost:8080/"
        },
        "id": "FTnCBfklQY2v",
        "outputId": "018432fb-8a6b-411d-ae94-0dcd3a969609"
      },
      "execution_count": null,
      "outputs": [
        {
          "output_type": "execute_result",
          "data": {
            "text/plain": [
              "array([[1, 2, 3],\n",
              "       [4, 5, 6],\n",
              "       [7, 8, 9]])"
            ]
          },
          "metadata": {},
          "execution_count": 80
        }
      ]
    },
    {
      "cell_type": "code",
      "source": [
        "arr2"
      ],
      "metadata": {
        "colab": {
          "base_uri": "https://localhost:8080/"
        },
        "id": "hVbILQX3QY6A",
        "outputId": "2c0ebd58-69ed-4c25-ebea-fa96777e2829"
      },
      "execution_count": null,
      "outputs": [
        {
          "output_type": "execute_result",
          "data": {
            "text/plain": [
              "array([[9, 8, 7],\n",
              "       [6, 5, 4],\n",
              "       [3, 2, 1]])"
            ]
          },
          "metadata": {},
          "execution_count": 81
        }
      ]
    },
    {
      "cell_type": "code",
      "source": [
        "arr1.ndim"
      ],
      "metadata": {
        "colab": {
          "base_uri": "https://localhost:8080/"
        },
        "id": "Txy-CfjZQY9V",
        "outputId": "c1e11d04-c400-41b8-9fcc-5861cdb81454"
      },
      "execution_count": null,
      "outputs": [
        {
          "output_type": "execute_result",
          "data": {
            "text/plain": [
              "2"
            ]
          },
          "metadata": {},
          "execution_count": 82
        }
      ]
    },
    {
      "cell_type": "code",
      "source": [
        "arr1 + arr2"
      ],
      "metadata": {
        "colab": {
          "base_uri": "https://localhost:8080/"
        },
        "id": "SNieGTiEQZAH",
        "outputId": "cfbe12b3-8f46-4abd-94a4-2ffb2d45f1ad"
      },
      "execution_count": null,
      "outputs": [
        {
          "output_type": "execute_result",
          "data": {
            "text/plain": [
              "array([[10, 10, 10],\n",
              "       [10, 10, 10],\n",
              "       [10, 10, 10]])"
            ]
          },
          "metadata": {},
          "execution_count": 83
        }
      ]
    },
    {
      "cell_type": "code",
      "source": [
        "arr2 * arr1"
      ],
      "metadata": {
        "colab": {
          "base_uri": "https://localhost:8080/"
        },
        "id": "4zFYKypIQZDO",
        "outputId": "55c344ef-499f-4299-92e8-8e4e0eb26fdb"
      },
      "execution_count": null,
      "outputs": [
        {
          "output_type": "execute_result",
          "data": {
            "text/plain": [
              "array([[ 9, 16, 21],\n",
              "       [24, 25, 24],\n",
              "       [21, 16,  9]])"
            ]
          },
          "metadata": {},
          "execution_count": 84
        }
      ]
    },
    {
      "cell_type": "code",
      "source": [
        "arr3 = np.array([[4, 5, 6, 8],\n",
        "         [2, 3, 4, 5],\n",
        "         [7, 1, 2, 4]])"
      ],
      "metadata": {
        "id": "tpmOiTyuQZGG"
      },
      "execution_count": null,
      "outputs": []
    },
    {
      "cell_type": "code",
      "source": [
        "arr3.ndim"
      ],
      "metadata": {
        "colab": {
          "base_uri": "https://localhost:8080/"
        },
        "id": "8RiAzsayR6pz",
        "outputId": "d32a16bb-075e-46b8-86be-f0e0ecf08b87"
      },
      "execution_count": null,
      "outputs": [
        {
          "output_type": "execute_result",
          "data": {
            "text/plain": [
              "2"
            ]
          },
          "metadata": {},
          "execution_count": 87
        }
      ]
    },
    {
      "cell_type": "code",
      "source": [
        "arr3.shape"
      ],
      "metadata": {
        "colab": {
          "base_uri": "https://localhost:8080/"
        },
        "id": "dCjnVShdfFPd",
        "outputId": "3e1489ab-fbe2-43e1-c4de-05a7611c018f"
      },
      "execution_count": null,
      "outputs": [
        {
          "output_type": "execute_result",
          "data": {
            "text/plain": [
              "(3, 4)"
            ]
          },
          "metadata": {},
          "execution_count": 88
        }
      ]
    },
    {
      "cell_type": "code",
      "source": [
        "arr3.size"
      ],
      "metadata": {
        "colab": {
          "base_uri": "https://localhost:8080/"
        },
        "id": "3bMpTRTMR8ix",
        "outputId": "31bb0791-416f-4598-9510-c6bf452cb968"
      },
      "execution_count": null,
      "outputs": [
        {
          "output_type": "execute_result",
          "data": {
            "text/plain": [
              "12"
            ]
          },
          "metadata": {},
          "execution_count": 89
        }
      ]
    },
    {
      "cell_type": "code",
      "source": [
        "arr1.size"
      ],
      "metadata": {
        "colab": {
          "base_uri": "https://localhost:8080/"
        },
        "id": "eoYc9kHbSEw4",
        "outputId": "4dfcb3ab-1bfa-4c2d-8018-9dcbbdbe7675"
      },
      "execution_count": null,
      "outputs": [
        {
          "output_type": "execute_result",
          "data": {
            "text/plain": [
              "9"
            ]
          },
          "metadata": {},
          "execution_count": 90
        }
      ]
    },
    {
      "cell_type": "code",
      "source": [
        "arr3.shape"
      ],
      "metadata": {
        "colab": {
          "base_uri": "https://localhost:8080/"
        },
        "id": "74rdEu0tSF5q",
        "outputId": "5937e25f-761f-4be2-a6fb-13a4fe1d53c4"
      },
      "execution_count": null,
      "outputs": [
        {
          "output_type": "execute_result",
          "data": {
            "text/plain": [
              "(3, 4)"
            ]
          },
          "metadata": {},
          "execution_count": 91
        }
      ]
    },
    {
      "cell_type": "code",
      "source": [
        "arr1+arr2"
      ],
      "metadata": {
        "colab": {
          "base_uri": "https://localhost:8080/"
        },
        "id": "fWRuCL6MSIDQ",
        "outputId": "0c4b357f-4d35-4dd1-ef4e-78e12afa533a"
      },
      "execution_count": null,
      "outputs": [
        {
          "output_type": "execute_result",
          "data": {
            "text/plain": [
              "array([[10, 10, 10],\n",
              "       [10, 10, 10],\n",
              "       [10, 10, 10]])"
            ]
          },
          "metadata": {},
          "execution_count": 92
        }
      ]
    },
    {
      "cell_type": "code",
      "source": [
        "arr2 * arr1"
      ],
      "metadata": {
        "colab": {
          "base_uri": "https://localhost:8080/"
        },
        "id": "FFzTsCDpSKBq",
        "outputId": "7d2de76c-2481-4eda-baa6-9f29e52cdba2"
      },
      "execution_count": null,
      "outputs": [
        {
          "output_type": "execute_result",
          "data": {
            "text/plain": [
              "array([[ 9, 16, 21],\n",
              "       [24, 25, 24],\n",
              "       [21, 16,  9]])"
            ]
          },
          "metadata": {},
          "execution_count": 93
        }
      ]
    },
    {
      "cell_type": "code",
      "source": [
        "arr1"
      ],
      "metadata": {
        "colab": {
          "base_uri": "https://localhost:8080/"
        },
        "id": "cyEOD4nQSMBg",
        "outputId": "431f640b-9dea-41da-decb-9b3e5b2b4a67"
      },
      "execution_count": null,
      "outputs": [
        {
          "output_type": "execute_result",
          "data": {
            "text/plain": [
              "array([[1, 2, 3],\n",
              "       [4, 5, 6],\n",
              "       [7, 8, 9]])"
            ]
          },
          "metadata": {},
          "execution_count": 94
        }
      ]
    },
    {
      "cell_type": "code",
      "source": [
        "arr2"
      ],
      "metadata": {
        "colab": {
          "base_uri": "https://localhost:8080/"
        },
        "id": "BvrVD7D9STML",
        "outputId": "c41dace4-aac5-4239-d0dc-f45ee56bb799"
      },
      "execution_count": null,
      "outputs": [
        {
          "output_type": "execute_result",
          "data": {
            "text/plain": [
              "array([[9, 8, 7],\n",
              "       [6, 5, 4],\n",
              "       [3, 2, 1]])"
            ]
          },
          "metadata": {},
          "execution_count": 95
        }
      ]
    },
    {
      "cell_type": "code",
      "source": [
        "arr1.dot(arr2) #dot product"
      ],
      "metadata": {
        "colab": {
          "base_uri": "https://localhost:8080/"
        },
        "id": "nep3FS9RST57",
        "outputId": "49049ead-0e37-465c-c651-76a2b83838aa"
      },
      "execution_count": null,
      "outputs": [
        {
          "output_type": "execute_result",
          "data": {
            "text/plain": [
              "array([[ 30,  24,  18],\n",
              "       [ 84,  69,  54],\n",
              "       [138, 114,  90]])"
            ]
          },
          "metadata": {},
          "execution_count": 96
        }
      ]
    },
    {
      "cell_type": "code",
      "source": [
        "arr2.dot(arr1)"
      ],
      "metadata": {
        "colab": {
          "base_uri": "https://localhost:8080/"
        },
        "id": "uEOIy0dHSXIL",
        "outputId": "d49b38ef-b6bd-411f-b6f3-b1fa9c3a7ced"
      },
      "execution_count": null,
      "outputs": [
        {
          "output_type": "execute_result",
          "data": {
            "text/plain": [
              "array([[ 90, 114, 138],\n",
              "       [ 54,  69,  84],\n",
              "       [ 18,  24,  30]])"
            ]
          },
          "metadata": {},
          "execution_count": 97
        }
      ]
    },
    {
      "cell_type": "code",
      "source": [
        "arr4 = arr1 @ arr2 # cross product"
      ],
      "metadata": {
        "id": "rpmLsINVfl84"
      },
      "execution_count": null,
      "outputs": []
    },
    {
      "cell_type": "code",
      "source": [
        "arr4"
      ],
      "metadata": {
        "colab": {
          "base_uri": "https://localhost:8080/"
        },
        "id": "B_azUMpZftbA",
        "outputId": "ca6d4508-5627-4241-f633-8bd67f035e56"
      },
      "execution_count": null,
      "outputs": [
        {
          "output_type": "execute_result",
          "data": {
            "text/plain": [
              "array([[ 30,  24,  18],\n",
              "       [ 84,  69,  54],\n",
              "       [138, 114,  90]])"
            ]
          },
          "metadata": {},
          "execution_count": 99
        }
      ]
    },
    {
      "cell_type": "code",
      "source": [
        "arr5 = arr2 @ arr1"
      ],
      "metadata": {
        "id": "buTOyTG-f99p"
      },
      "execution_count": null,
      "outputs": []
    },
    {
      "cell_type": "code",
      "source": [
        "arr5"
      ],
      "metadata": {
        "colab": {
          "base_uri": "https://localhost:8080/"
        },
        "id": "8qxde4sNgBjv",
        "outputId": "c866135f-9a85-41d9-b066-b642c03b9d68"
      },
      "execution_count": null,
      "outputs": [
        {
          "output_type": "execute_result",
          "data": {
            "text/plain": [
              "array([[ 90, 114, 138],\n",
              "       [ 54,  69,  84],\n",
              "       [ 18,  24,  30]])"
            ]
          },
          "metadata": {},
          "execution_count": 101
        }
      ]
    },
    {
      "cell_type": "code",
      "source": [
        "arr = np.array([1,2,3,4,5])"
      ],
      "metadata": {
        "id": "EZ4pTWS_SoWr"
      },
      "execution_count": null,
      "outputs": []
    },
    {
      "cell_type": "code",
      "source": [
        "arr[:]"
      ],
      "metadata": {
        "colab": {
          "base_uri": "https://localhost:8080/"
        },
        "id": "Xie3xdmLStfs",
        "outputId": "e5677d94-979a-4823-adc3-3871fa0258f0"
      },
      "execution_count": null,
      "outputs": [
        {
          "output_type": "execute_result",
          "data": {
            "text/plain": [
              "array([1, 2, 3, 4, 5])"
            ]
          },
          "metadata": {},
          "execution_count": 103
        }
      ]
    },
    {
      "cell_type": "code",
      "source": [
        "arr[:3]"
      ],
      "metadata": {
        "colab": {
          "base_uri": "https://localhost:8080/"
        },
        "id": "FBXJ6QjYStjL",
        "outputId": "5d4aec15-54be-4a04-f468-6b1b7b0c8eda"
      },
      "execution_count": null,
      "outputs": [
        {
          "output_type": "execute_result",
          "data": {
            "text/plain": [
              "array([1, 2, 3])"
            ]
          },
          "metadata": {},
          "execution_count": 104
        }
      ]
    },
    {
      "cell_type": "code",
      "source": [
        "arr[2:]"
      ],
      "metadata": {
        "colab": {
          "base_uri": "https://localhost:8080/"
        },
        "id": "RnnWpZtTStnz",
        "outputId": "87409037-3089-4288-a0d9-b9de061798c0"
      },
      "execution_count": null,
      "outputs": [
        {
          "output_type": "execute_result",
          "data": {
            "text/plain": [
              "array([3, 4, 5])"
            ]
          },
          "metadata": {},
          "execution_count": 105
        }
      ]
    },
    {
      "cell_type": "code",
      "source": [
        "arr[:-2]"
      ],
      "metadata": {
        "colab": {
          "base_uri": "https://localhost:8080/"
        },
        "id": "OH0NeP2sTDUu",
        "outputId": "dc1a886f-1d99-4932-cc89-b467a67768af"
      },
      "execution_count": null,
      "outputs": [
        {
          "output_type": "execute_result",
          "data": {
            "text/plain": [
              "array([1, 2, 3])"
            ]
          },
          "metadata": {},
          "execution_count": 106
        }
      ]
    },
    {
      "cell_type": "code",
      "source": [
        "arr1"
      ],
      "metadata": {
        "colab": {
          "base_uri": "https://localhost:8080/"
        },
        "id": "shJtwCtMTGRK",
        "outputId": "51618bd2-e000-455a-af03-4047c1dc51d6"
      },
      "execution_count": null,
      "outputs": [
        {
          "output_type": "execute_result",
          "data": {
            "text/plain": [
              "array([[1, 2, 3],\n",
              "       [4, 5, 6],\n",
              "       [7, 8, 9]])"
            ]
          },
          "metadata": {},
          "execution_count": 107
        }
      ]
    },
    {
      "cell_type": "code",
      "source": [
        "arr1[:,:]"
      ],
      "metadata": {
        "colab": {
          "base_uri": "https://localhost:8080/"
        },
        "id": "Y50xIWucTKzR",
        "outputId": "5f1bd5b5-7ba5-411b-d182-fd9d3e510941"
      },
      "execution_count": null,
      "outputs": [
        {
          "output_type": "execute_result",
          "data": {
            "text/plain": [
              "array([[1, 2, 3],\n",
              "       [4, 5, 6],\n",
              "       [7, 8, 9]])"
            ]
          },
          "metadata": {},
          "execution_count": 111
        }
      ]
    },
    {
      "cell_type": "code",
      "source": [
        "arr1[:,1:2]"
      ],
      "metadata": {
        "colab": {
          "base_uri": "https://localhost:8080/"
        },
        "id": "TZhMx06iTOlC",
        "outputId": "f9764523-f668-4595-84d5-25a0b55d387a"
      },
      "execution_count": null,
      "outputs": [
        {
          "output_type": "execute_result",
          "data": {
            "text/plain": [
              "array([[2],\n",
              "       [5],\n",
              "       [8]])"
            ]
          },
          "metadata": {},
          "execution_count": 115
        }
      ]
    },
    {
      "cell_type": "code",
      "source": [
        "arr1[2:,:]"
      ],
      "metadata": {
        "colab": {
          "base_uri": "https://localhost:8080/"
        },
        "id": "n3lzSiSoTUCi",
        "outputId": "2b9070ea-fa14-4578-d577-1e804d7b0f2a"
      },
      "execution_count": null,
      "outputs": [
        {
          "output_type": "execute_result",
          "data": {
            "text/plain": [
              "array([[7, 8, 9]])"
            ]
          },
          "metadata": {},
          "execution_count": 116
        }
      ]
    },
    {
      "cell_type": "code",
      "source": [
        "arr1[:2,:]"
      ],
      "metadata": {
        "colab": {
          "base_uri": "https://localhost:8080/"
        },
        "id": "Ss7ZePvVVRKd",
        "outputId": "05d81434-5108-4c4d-f606-5aed4469266c"
      },
      "execution_count": null,
      "outputs": [
        {
          "output_type": "execute_result",
          "data": {
            "text/plain": [
              "array([[1, 2, 3],\n",
              "       [4, 5, 6]])"
            ]
          },
          "metadata": {},
          "execution_count": 117
        }
      ]
    },
    {
      "cell_type": "code",
      "source": [
        "arr1[:,:2]"
      ],
      "metadata": {
        "colab": {
          "base_uri": "https://localhost:8080/"
        },
        "id": "iwa7EGnLVcOt",
        "outputId": "fcfd2fba-9753-488e-8dc2-11352c0f2ed7"
      },
      "execution_count": null,
      "outputs": [
        {
          "output_type": "execute_result",
          "data": {
            "text/plain": [
              "array([[1, 2],\n",
              "       [4, 5],\n",
              "       [7, 8]])"
            ]
          },
          "metadata": {},
          "execution_count": 118
        }
      ]
    },
    {
      "cell_type": "code",
      "source": [
        "arr1[:,1:2]"
      ],
      "metadata": {
        "colab": {
          "base_uri": "https://localhost:8080/"
        },
        "id": "punPU28NVgod",
        "outputId": "733d9d34-4276-46b1-a2e0-ccf707786d3a"
      },
      "execution_count": null,
      "outputs": [
        {
          "output_type": "execute_result",
          "data": {
            "text/plain": [
              "array([[2],\n",
              "       [5],\n",
              "       [8]])"
            ]
          },
          "metadata": {},
          "execution_count": 119
        }
      ]
    },
    {
      "cell_type": "code",
      "source": [
        "arr1[1:2,:]"
      ],
      "metadata": {
        "colab": {
          "base_uri": "https://localhost:8080/"
        },
        "id": "V2mTqstnVobv",
        "outputId": "06d6e532-c713-4a11-8760-0155b17c2f58"
      },
      "execution_count": null,
      "outputs": [
        {
          "output_type": "execute_result",
          "data": {
            "text/plain": [
              "array([[4, 5, 6]])"
            ]
          },
          "metadata": {},
          "execution_count": 120
        }
      ]
    },
    {
      "cell_type": "code",
      "source": [
        "arr1[1:2,1:2]"
      ],
      "metadata": {
        "colab": {
          "base_uri": "https://localhost:8080/"
        },
        "id": "aZwsy0IcVud1",
        "outputId": "d0c06812-420b-4cde-fa72-217083c65b8d"
      },
      "execution_count": null,
      "outputs": [
        {
          "output_type": "execute_result",
          "data": {
            "text/plain": [
              "array([[5]])"
            ]
          },
          "metadata": {},
          "execution_count": 121
        }
      ]
    },
    {
      "cell_type": "code",
      "source": [
        "arr1[1:, 1:]"
      ],
      "metadata": {
        "colab": {
          "base_uri": "https://localhost:8080/"
        },
        "id": "ONthM6vVWe69",
        "outputId": "aae9c289-7e5f-41b0-f459-e4541c564443"
      },
      "execution_count": null,
      "outputs": [
        {
          "output_type": "execute_result",
          "data": {
            "text/plain": [
              "array([[5, 6],\n",
              "       [8, 9]])"
            ]
          },
          "metadata": {},
          "execution_count": 122
        }
      ]
    },
    {
      "cell_type": "markdown",
      "source": [
        "Array Sorting"
      ],
      "metadata": {
        "id": "s5o2k-Ikr6hW"
      }
    },
    {
      "cell_type": "code",
      "source": [
        "import numpy as np"
      ],
      "metadata": {
        "id": "ueX6vK-TsAGb"
      },
      "execution_count": null,
      "outputs": []
    },
    {
      "cell_type": "code",
      "source": [
        "y = np.array([[[7, 3, 8, 9, 6, 4],\n",
        "              [1, 2, 3, 4, 5, 6],\n",
        "              [9, 7, 5, 3, 4, 5],\n",
        "              [4, 4, 4, 4, 4, 4]],\n",
        "            [[3, 3, 3, 3, 3, 3,],\n",
        "             [5, 5, 5, 5, 5, 5],\n",
        "              [4, 4, 6, 6, 7, 7],\n",
        "              [2, 2, 3, 3, 1, 1]],\n",
        "            [[8, 5, 4, 3, 7, 9],\n",
        "              [2, 4, 5, 3, 6, 7],\n",
        "              [1, 0, 9, 6, 4, 3],\n",
        "              [8, 9, 7, 0, 0, 0]]])"
      ],
      "metadata": {
        "id": "5dW7aj3isFoL"
      },
      "execution_count": null,
      "outputs": []
    },
    {
      "cell_type": "code",
      "source": [
        "y"
      ],
      "metadata": {
        "colab": {
          "base_uri": "https://localhost:8080/"
        },
        "id": "XCRzUEZGskeo",
        "outputId": "26a5c015-c323-4795-e64d-545d9743e38e"
      },
      "execution_count": null,
      "outputs": [
        {
          "output_type": "execute_result",
          "data": {
            "text/plain": [
              "array([[[7, 3, 8, 9, 6, 4],\n",
              "        [1, 2, 3, 4, 5, 6],\n",
              "        [9, 7, 5, 3, 4, 5],\n",
              "        [4, 4, 4, 4, 4, 4]],\n",
              "\n",
              "       [[3, 3, 3, 3, 3, 3],\n",
              "        [5, 5, 5, 5, 5, 5],\n",
              "        [4, 4, 6, 6, 7, 7],\n",
              "        [2, 2, 3, 3, 1, 1]],\n",
              "\n",
              "       [[8, 5, 4, 3, 7, 9],\n",
              "        [2, 4, 5, 3, 6, 7],\n",
              "        [1, 0, 9, 6, 4, 3],\n",
              "        [8, 9, 7, 0, 0, 0]]])"
            ]
          },
          "metadata": {},
          "execution_count": 144
        }
      ]
    },
    {
      "cell_type": "code",
      "source": [
        "y.shape"
      ],
      "metadata": {
        "colab": {
          "base_uri": "https://localhost:8080/"
        },
        "id": "pYtPcsPIsv5e",
        "outputId": "98c161a2-6b91-4042-a8d8-6135239241a8"
      },
      "execution_count": null,
      "outputs": [
        {
          "output_type": "execute_result",
          "data": {
            "text/plain": [
              "(3, 4, 6)"
            ]
          },
          "metadata": {},
          "execution_count": 145
        }
      ]
    },
    {
      "cell_type": "code",
      "source": [
        "y.ndim"
      ],
      "metadata": {
        "colab": {
          "base_uri": "https://localhost:8080/"
        },
        "id": "UOZLWd-Gsxco",
        "outputId": "79228018-0e82-4078-9dcd-3b45ed9487aa"
      },
      "execution_count": null,
      "outputs": [
        {
          "output_type": "execute_result",
          "data": {
            "text/plain": [
              "3"
            ]
          },
          "metadata": {},
          "execution_count": 147
        }
      ]
    },
    {
      "cell_type": "code",
      "source": [
        "np.sort(y, axis = 1, kind = 'mergesort')"
      ],
      "metadata": {
        "colab": {
          "base_uri": "https://localhost:8080/"
        },
        "id": "hoHAajR5sxZX",
        "outputId": "0ea709e8-9f1c-46ec-dcd0-32854443adcb"
      },
      "execution_count": null,
      "outputs": [
        {
          "output_type": "execute_result",
          "data": {
            "text/plain": [
              "array([[[1, 2, 3, 3, 4, 4],\n",
              "        [4, 3, 4, 4, 4, 4],\n",
              "        [7, 4, 5, 4, 5, 5],\n",
              "        [9, 7, 8, 9, 6, 6]],\n",
              "\n",
              "       [[2, 2, 3, 3, 1, 1],\n",
              "        [3, 3, 3, 3, 3, 3],\n",
              "        [4, 4, 5, 5, 5, 5],\n",
              "        [5, 5, 6, 6, 7, 7]],\n",
              "\n",
              "       [[1, 0, 4, 0, 0, 0],\n",
              "        [2, 4, 5, 3, 4, 3],\n",
              "        [8, 5, 7, 3, 6, 7],\n",
              "        [8, 9, 9, 6, 7, 9]]])"
            ]
          },
          "metadata": {},
          "execution_count": 149
        }
      ]
    },
    {
      "cell_type": "code",
      "source": [
        "x = np.array([[7, 3, 8, 9, 6, 4],\n",
        "              [1, 2, 3, 4, 5, 6],\n",
        "              [9, 7, 5, 3, 4, 5],\n",
        "              [4, 4, 4, 4, 4, 4]])"
      ],
      "metadata": {
        "id": "gwzm-V-EsxTd"
      },
      "execution_count": null,
      "outputs": []
    },
    {
      "cell_type": "code",
      "source": [
        "x.ndim"
      ],
      "metadata": {
        "colab": {
          "base_uri": "https://localhost:8080/"
        },
        "id": "cI669GImwptu",
        "outputId": "5d127688-064e-4d00-aa27-708c76a1cbb1"
      },
      "execution_count": null,
      "outputs": [
        {
          "output_type": "execute_result",
          "data": {
            "text/plain": [
              "2"
            ]
          },
          "metadata": {},
          "execution_count": 346
        }
      ]
    },
    {
      "cell_type": "code",
      "source": [
        "x.shape"
      ],
      "metadata": {
        "colab": {
          "base_uri": "https://localhost:8080/"
        },
        "id": "vgDDGUwzwpwG",
        "outputId": "182786c2-01fa-427b-e13a-3129ba089807"
      },
      "execution_count": null,
      "outputs": [
        {
          "output_type": "execute_result",
          "data": {
            "text/plain": [
              "(4, 6)"
            ]
          },
          "metadata": {},
          "execution_count": 347
        }
      ]
    },
    {
      "cell_type": "code",
      "source": [
        "np.sort(x, axis = 1, kind = 'quicksort') #sort requires matrix, axis (0 = column, 1 = row) and kind of sorting algorithm to be applied"
      ],
      "metadata": {
        "colab": {
          "base_uri": "https://localhost:8080/"
        },
        "id": "s1UuK80Cwpyo",
        "outputId": "b0499788-7732-4d2c-a8fb-198385669be0"
      },
      "execution_count": null,
      "outputs": [
        {
          "output_type": "execute_result",
          "data": {
            "text/plain": [
              "array([[3, 4, 6, 7, 8, 9],\n",
              "       [1, 2, 3, 4, 5, 6],\n",
              "       [3, 4, 5, 5, 7, 9],\n",
              "       [4, 4, 4, 4, 4, 4]])"
            ]
          },
          "metadata": {},
          "execution_count": 349
        }
      ]
    },
    {
      "cell_type": "code",
      "source": [
        "np.sort(y, axis = 0, kind = 'heapsort')"
      ],
      "metadata": {
        "colab": {
          "base_uri": "https://localhost:8080/"
        },
        "id": "ByZK3U-6wp1Q",
        "outputId": "8455b987-ade5-471c-8a70-fb4b4872366c"
      },
      "execution_count": null,
      "outputs": [
        {
          "output_type": "execute_result",
          "data": {
            "text/plain": [
              "array([[[3, 3, 3, 3, 3, 3],\n",
              "        [1, 2, 3, 3, 5, 5],\n",
              "        [1, 0, 5, 3, 4, 3],\n",
              "        [2, 2, 3, 0, 0, 0]],\n",
              "\n",
              "       [[7, 3, 4, 3, 6, 4],\n",
              "        [2, 4, 5, 4, 5, 6],\n",
              "        [4, 4, 6, 6, 4, 5],\n",
              "        [4, 4, 4, 3, 1, 1]],\n",
              "\n",
              "       [[8, 5, 8, 9, 7, 9],\n",
              "        [5, 5, 5, 5, 6, 7],\n",
              "        [9, 7, 9, 6, 7, 7],\n",
              "        [8, 9, 7, 4, 4, 4]]])"
            ]
          },
          "metadata": {},
          "execution_count": 166
        }
      ]
    },
    {
      "cell_type": "code",
      "source": [
        "np.sort(y, axis = 0) # by default sorting is row wise"
      ],
      "metadata": {
        "colab": {
          "base_uri": "https://localhost:8080/"
        },
        "id": "ARUa5NWnyrFg",
        "outputId": "00327e02-e65d-4aae-de09-254f6ddf5ad3"
      },
      "execution_count": null,
      "outputs": [
        {
          "output_type": "execute_result",
          "data": {
            "text/plain": [
              "array([[[3, 3, 3, 3, 3, 3],\n",
              "        [1, 2, 3, 3, 5, 5],\n",
              "        [1, 0, 5, 3, 4, 3],\n",
              "        [2, 2, 3, 0, 0, 0]],\n",
              "\n",
              "       [[7, 3, 4, 3, 6, 4],\n",
              "        [2, 4, 5, 4, 5, 6],\n",
              "        [4, 4, 6, 6, 4, 5],\n",
              "        [4, 4, 4, 3, 1, 1]],\n",
              "\n",
              "       [[8, 5, 8, 9, 7, 9],\n",
              "        [5, 5, 5, 5, 6, 7],\n",
              "        [9, 7, 9, 6, 7, 7],\n",
              "        [8, 9, 7, 4, 4, 4]]])"
            ]
          },
          "metadata": {},
          "execution_count": 167
        }
      ]
    },
    {
      "cell_type": "code",
      "source": [
        "y"
      ],
      "metadata": {
        "colab": {
          "base_uri": "https://localhost:8080/"
        },
        "id": "LnFNaxd6zjwq",
        "outputId": "fe1c1f5d-3aee-4ab6-8cb6-fea07dc68798"
      },
      "execution_count": null,
      "outputs": [
        {
          "output_type": "execute_result",
          "data": {
            "text/plain": [
              "array([[[7, 3, 8, 9, 6, 4],\n",
              "        [1, 2, 3, 4, 5, 6],\n",
              "        [9, 7, 5, 3, 4, 5],\n",
              "        [4, 4, 4, 4, 4, 4]],\n",
              "\n",
              "       [[3, 3, 3, 3, 3, 3],\n",
              "        [5, 5, 5, 5, 5, 5],\n",
              "        [4, 4, 6, 6, 7, 7],\n",
              "        [2, 2, 3, 3, 1, 1]],\n",
              "\n",
              "       [[8, 5, 4, 3, 7, 9],\n",
              "        [2, 4, 5, 3, 6, 7],\n",
              "        [1, 0, 9, 6, 4, 3],\n",
              "        [8, 9, 7, 0, 0, 0]]])"
            ]
          },
          "metadata": {},
          "execution_count": 169
        }
      ]
    },
    {
      "cell_type": "code",
      "source": [
        "np.sort(y) #it choose best time complexity or random algorithm to sort and by default sort row wise"
      ],
      "metadata": {
        "colab": {
          "base_uri": "https://localhost:8080/"
        },
        "id": "r-jzPxOUyrHm",
        "outputId": "de374bf0-c7ed-43e5-a44a-22adaec00dbc"
      },
      "execution_count": null,
      "outputs": [
        {
          "output_type": "execute_result",
          "data": {
            "text/plain": [
              "array([[[3, 4, 6, 7, 8, 9],\n",
              "        [1, 2, 3, 4, 5, 6],\n",
              "        [3, 4, 5, 5, 7, 9],\n",
              "        [4, 4, 4, 4, 4, 4]],\n",
              "\n",
              "       [[3, 3, 3, 3, 3, 3],\n",
              "        [5, 5, 5, 5, 5, 5],\n",
              "        [4, 4, 6, 6, 7, 7],\n",
              "        [1, 1, 2, 2, 3, 3]],\n",
              "\n",
              "       [[3, 4, 5, 7, 8, 9],\n",
              "        [2, 3, 4, 5, 6, 7],\n",
              "        [0, 1, 3, 4, 6, 9],\n",
              "        [0, 0, 0, 7, 8, 9]]])"
            ]
          },
          "metadata": {},
          "execution_count": 168
        }
      ]
    },
    {
      "cell_type": "markdown",
      "source": [
        "Concatinating Arrays/Array Merging"
      ],
      "metadata": {
        "id": "C8-QbTGm0b1F"
      }
    },
    {
      "cell_type": "code",
      "source": [
        "l = np.array(((1, 2, 3, 4, 5), (5, 6, 7, 8, 9)))\n",
        "m = np.array(((9, 4, 3, 2, 1), (3, 5, 7, 8, 2)))"
      ],
      "metadata": {
        "id": "GCZ8NXOOyrNK"
      },
      "execution_count": null,
      "outputs": []
    },
    {
      "cell_type": "code",
      "source": [
        "l"
      ],
      "metadata": {
        "colab": {
          "base_uri": "https://localhost:8080/"
        },
        "id": "_ze8Wqwg1Ke4",
        "outputId": "5e1acf59-c7d2-47a1-dcba-665dd2ea6cbb"
      },
      "execution_count": null,
      "outputs": [
        {
          "output_type": "execute_result",
          "data": {
            "text/plain": [
              "array([[1, 2, 3, 4, 5],\n",
              "       [5, 6, 7, 8, 9]])"
            ]
          },
          "metadata": {},
          "execution_count": 172
        }
      ]
    },
    {
      "cell_type": "code",
      "source": [
        "l.shape"
      ],
      "metadata": {
        "colab": {
          "base_uri": "https://localhost:8080/"
        },
        "id": "OyrZHJuo1Kgx",
        "outputId": "e8a68f31-2c51-4e8d-e21c-e5eb2e8c5469"
      },
      "execution_count": null,
      "outputs": [
        {
          "output_type": "execute_result",
          "data": {
            "text/plain": [
              "(2, 5)"
            ]
          },
          "metadata": {},
          "execution_count": 173
        }
      ]
    },
    {
      "cell_type": "code",
      "source": [
        "l.size"
      ],
      "metadata": {
        "colab": {
          "base_uri": "https://localhost:8080/"
        },
        "id": "-YZojh3N1KjU",
        "outputId": "e1211032-8d0d-42a9-9c1f-d6575b575c87"
      },
      "execution_count": null,
      "outputs": [
        {
          "output_type": "execute_result",
          "data": {
            "text/plain": [
              "10"
            ]
          },
          "metadata": {},
          "execution_count": 174
        }
      ]
    },
    {
      "cell_type": "code",
      "source": [
        "l.ndim"
      ],
      "metadata": {
        "colab": {
          "base_uri": "https://localhost:8080/"
        },
        "id": "ca7wO45t1P9i",
        "outputId": "7390f045-f6b6-422d-89a6-9ffb33b53bff"
      },
      "execution_count": null,
      "outputs": [
        {
          "output_type": "execute_result",
          "data": {
            "text/plain": [
              "2"
            ]
          },
          "metadata": {},
          "execution_count": 175
        }
      ]
    },
    {
      "cell_type": "code",
      "source": [
        "m.shape"
      ],
      "metadata": {
        "colab": {
          "base_uri": "https://localhost:8080/"
        },
        "id": "_5sThz-W1eua",
        "outputId": "7b32c27c-7cf4-4100-c537-9ae32b81b135"
      },
      "execution_count": null,
      "outputs": [
        {
          "output_type": "execute_result",
          "data": {
            "text/plain": [
              "(2, 5)"
            ]
          },
          "metadata": {},
          "execution_count": 176
        }
      ]
    },
    {
      "cell_type": "code",
      "source": [
        "m.size"
      ],
      "metadata": {
        "colab": {
          "base_uri": "https://localhost:8080/"
        },
        "id": "s2R3qInR1e53",
        "outputId": "c948ef85-68ec-491f-8ce6-30169b904218"
      },
      "execution_count": null,
      "outputs": [
        {
          "output_type": "execute_result",
          "data": {
            "text/plain": [
              "10"
            ]
          },
          "metadata": {},
          "execution_count": 177
        }
      ]
    },
    {
      "cell_type": "code",
      "source": [
        "m.ndim"
      ],
      "metadata": {
        "colab": {
          "base_uri": "https://localhost:8080/"
        },
        "id": "J2mORx411e80",
        "outputId": "d7ce1131-7ad2-4672-ad79-384353c7a479"
      },
      "execution_count": null,
      "outputs": [
        {
          "output_type": "execute_result",
          "data": {
            "text/plain": [
              "2"
            ]
          },
          "metadata": {},
          "execution_count": 178
        }
      ]
    },
    {
      "cell_type": "code",
      "source": [
        "np.vstack((l, m))"
      ],
      "metadata": {
        "colab": {
          "base_uri": "https://localhost:8080/"
        },
        "id": "Hy3cvPh-1e_q",
        "outputId": "521fc75a-d439-4199-feaa-f27806de2ac6"
      },
      "execution_count": null,
      "outputs": [
        {
          "output_type": "execute_result",
          "data": {
            "text/plain": [
              "array([[1, 2, 3, 4, 5],\n",
              "       [5, 6, 7, 8, 9],\n",
              "       [9, 4, 3, 2, 1],\n",
              "       [3, 5, 7, 8, 2]])"
            ]
          },
          "metadata": {},
          "execution_count": 181
        }
      ]
    },
    {
      "cell_type": "code",
      "source": [
        "np.hstack((l, m))"
      ],
      "metadata": {
        "colab": {
          "base_uri": "https://localhost:8080/"
        },
        "id": "VpOgPYCa1nSz",
        "outputId": "65d8d0da-be7a-4a68-c4f8-6b9e837594b6"
      },
      "execution_count": null,
      "outputs": [
        {
          "output_type": "execute_result",
          "data": {
            "text/plain": [
              "array([[1, 2, 3, 4, 5, 9, 4, 3, 2, 1],\n",
              "       [5, 6, 7, 8, 9, 3, 5, 7, 8, 2]])"
            ]
          },
          "metadata": {},
          "execution_count": 182
        }
      ]
    },
    {
      "cell_type": "code",
      "source": [
        "n = np.concatenate((l, m))"
      ],
      "metadata": {
        "id": "JPKsywT91nU1"
      },
      "execution_count": null,
      "outputs": []
    },
    {
      "cell_type": "code",
      "source": [
        "n"
      ],
      "metadata": {
        "colab": {
          "base_uri": "https://localhost:8080/"
        },
        "id": "54VBS-hr9u25",
        "outputId": "d5be0b06-75ef-4562-904c-ef4b30907077"
      },
      "execution_count": null,
      "outputs": [
        {
          "output_type": "execute_result",
          "data": {
            "text/plain": [
              "array([[1, 2, 3, 4, 5],\n",
              "       [5, 6, 7, 8, 9],\n",
              "       [9, 4, 3, 2, 1],\n",
              "       [3, 5, 7, 8, 2]])"
            ]
          },
          "metadata": {},
          "execution_count": 224
        }
      ]
    },
    {
      "cell_type": "code",
      "source": [
        "j = np.dstack((l, m))"
      ],
      "metadata": {
        "id": "_Hiynds01nXc"
      },
      "execution_count": null,
      "outputs": []
    },
    {
      "cell_type": "code",
      "source": [
        "j"
      ],
      "metadata": {
        "colab": {
          "base_uri": "https://localhost:8080/"
        },
        "id": "lbReTvTW1naO",
        "outputId": "9819198f-5f9e-4c7d-ac75-6224fc2e4b9d"
      },
      "execution_count": null,
      "outputs": [
        {
          "output_type": "execute_result",
          "data": {
            "text/plain": [
              "array([[[1, 9],\n",
              "        [2, 4],\n",
              "        [3, 3],\n",
              "        [4, 2],\n",
              "        [5, 1]],\n",
              "\n",
              "       [[5, 3],\n",
              "        [6, 5],\n",
              "        [7, 7],\n",
              "        [8, 8],\n",
              "        [9, 2]]])"
            ]
          },
          "metadata": {},
          "execution_count": 186
        }
      ]
    },
    {
      "cell_type": "code",
      "source": [
        "j.shape"
      ],
      "metadata": {
        "colab": {
          "base_uri": "https://localhost:8080/"
        },
        "id": "hEk8Mmr-1nc3",
        "outputId": "7e7533d3-a3eb-4349-ad8e-cdf5e81ba491"
      },
      "execution_count": null,
      "outputs": [
        {
          "output_type": "execute_result",
          "data": {
            "text/plain": [
              "(2, 5, 2)"
            ]
          },
          "metadata": {},
          "execution_count": 187
        }
      ]
    },
    {
      "cell_type": "code",
      "source": [
        "j.ndim"
      ],
      "metadata": {
        "colab": {
          "base_uri": "https://localhost:8080/"
        },
        "id": "k6SmWVTU1nfg",
        "outputId": "c68c085b-d52f-47f2-ff38-139f17d0414a"
      },
      "execution_count": null,
      "outputs": [
        {
          "output_type": "execute_result",
          "data": {
            "text/plain": [
              "3"
            ]
          },
          "metadata": {},
          "execution_count": 188
        }
      ]
    },
    {
      "cell_type": "code",
      "source": [
        "g = np.dsplit(j, np.array([2, 2]))"
      ],
      "metadata": {
        "id": "A4b_OQJw3OpQ"
      },
      "execution_count": null,
      "outputs": []
    },
    {
      "cell_type": "code",
      "source": [
        "g"
      ],
      "metadata": {
        "colab": {
          "base_uri": "https://localhost:8080/"
        },
        "id": "8BubJmVQ3OsM",
        "outputId": "9f94ec00-f99e-4ab8-92ac-a72ad69b9521"
      },
      "execution_count": null,
      "outputs": [
        {
          "output_type": "execute_result",
          "data": {
            "text/plain": [
              "[array([[[1, 9],\n",
              "         [2, 4],\n",
              "         [3, 3],\n",
              "         [4, 2],\n",
              "         [5, 1]],\n",
              " \n",
              "        [[5, 3],\n",
              "         [6, 5],\n",
              "         [7, 7],\n",
              "         [8, 8],\n",
              "         [9, 2]]]),\n",
              " array([], shape=(2, 5, 0), dtype=int64),\n",
              " array([], shape=(2, 5, 0), dtype=int64)]"
            ]
          },
          "metadata": {},
          "execution_count": 201
        }
      ]
    },
    {
      "cell_type": "code",
      "source": [
        "g[0].shape"
      ],
      "metadata": {
        "colab": {
          "base_uri": "https://localhost:8080/"
        },
        "id": "gpf4sF-L3Ovu",
        "outputId": "426ef05a-95db-4502-d003-2df0c9b1a2ae"
      },
      "execution_count": null,
      "outputs": [
        {
          "output_type": "execute_result",
          "data": {
            "text/plain": [
              "(2, 5, 2)"
            ]
          },
          "metadata": {},
          "execution_count": 203
        }
      ]
    },
    {
      "cell_type": "code",
      "source": [
        "g[0].ndim"
      ],
      "metadata": {
        "colab": {
          "base_uri": "https://localhost:8080/"
        },
        "id": "zl_N8Bq43Ox9",
        "outputId": "ce8d42e1-0590-4040-a256-d709020fedc8"
      },
      "execution_count": null,
      "outputs": [
        {
          "output_type": "execute_result",
          "data": {
            "text/plain": [
              "3"
            ]
          },
          "metadata": {},
          "execution_count": 204
        }
      ]
    },
    {
      "cell_type": "code",
      "source": [
        "o = np.concatenate((m, l))"
      ],
      "metadata": {
        "id": "OFPsW9Uu6Q7a"
      },
      "execution_count": null,
      "outputs": []
    },
    {
      "cell_type": "code",
      "source": [
        "o"
      ],
      "metadata": {
        "colab": {
          "base_uri": "https://localhost:8080/"
        },
        "id": "KHYe5pU26Q9m",
        "outputId": "831d146e-6a49-4504-d93b-20751e68a2d4"
      },
      "execution_count": null,
      "outputs": [
        {
          "output_type": "execute_result",
          "data": {
            "text/plain": [
              "array([[9, 4, 3, 2, 1],\n",
              "       [3, 5, 7, 8, 2],\n",
              "       [1, 2, 3, 4, 5],\n",
              "       [5, 6, 7, 8, 9]])"
            ]
          },
          "metadata": {},
          "execution_count": 206
        }
      ]
    },
    {
      "cell_type": "code",
      "source": [
        "i = np.concatenate((l, m), axis=0)"
      ],
      "metadata": {
        "id": "Nkbq-j7y6RAW"
      },
      "execution_count": null,
      "outputs": []
    },
    {
      "cell_type": "code",
      "source": [
        "i"
      ],
      "metadata": {
        "colab": {
          "base_uri": "https://localhost:8080/"
        },
        "id": "nWpN0Cyw6RDE",
        "outputId": "0cbc308b-d3b5-4998-eced-a1b656fa1bdf"
      },
      "execution_count": null,
      "outputs": [
        {
          "output_type": "execute_result",
          "data": {
            "text/plain": [
              "array([[1, 2, 3, 4, 5],\n",
              "       [5, 6, 7, 8, 9],\n",
              "       [9, 4, 3, 2, 1],\n",
              "       [3, 5, 7, 8, 2]])"
            ]
          },
          "metadata": {},
          "execution_count": 219
        }
      ]
    },
    {
      "cell_type": "code",
      "source": [
        "n"
      ],
      "metadata": {
        "colab": {
          "base_uri": "https://localhost:8080/"
        },
        "id": "qaGb5YGc8ttL",
        "outputId": "54d77a5d-8b8f-4bbf-b7fe-1c2b6dc23e8f"
      },
      "execution_count": null,
      "outputs": [
        {
          "output_type": "execute_result",
          "data": {
            "text/plain": [
              "array([[1, 2, 3, 4, 5],\n",
              "       [5, 6, 7, 8, 9],\n",
              "       [9, 4, 3, 2, 1],\n",
              "       [3, 5, 7, 8, 2]])"
            ]
          },
          "metadata": {},
          "execution_count": 225
        }
      ]
    },
    {
      "cell_type": "code",
      "source": [
        "np.vsplit(n, 2)"
      ],
      "metadata": {
        "colab": {
          "base_uri": "https://localhost:8080/"
        },
        "id": "brDxBS6Y8tvV",
        "outputId": "5dca0318-1125-4386-b06b-6822c162d70e"
      },
      "execution_count": null,
      "outputs": [
        {
          "output_type": "execute_result",
          "data": {
            "text/plain": [
              "[array([[1, 2, 3, 4, 5],\n",
              "        [5, 6, 7, 8, 9]]),\n",
              " array([[9, 4, 3, 2, 1],\n",
              "        [3, 5, 7, 8, 2]])]"
            ]
          },
          "metadata": {},
          "execution_count": 227
        }
      ]
    },
    {
      "cell_type": "code",
      "source": [
        "q = np.hsplit(n, np.array([2, 3]))"
      ],
      "metadata": {
        "id": "z2LCP-uu8t-F"
      },
      "execution_count": null,
      "outputs": []
    },
    {
      "cell_type": "code",
      "source": [
        "q"
      ],
      "metadata": {
        "colab": {
          "base_uri": "https://localhost:8080/"
        },
        "id": "bSIcg2zu8uBd",
        "outputId": "403f85ab-c83c-4330-9f6e-05a39c6bbda4"
      },
      "execution_count": null,
      "outputs": [
        {
          "output_type": "execute_result",
          "data": {
            "text/plain": [
              "[array([[1, 2],\n",
              "        [5, 6],\n",
              "        [9, 4],\n",
              "        [3, 5]]),\n",
              " array([[3],\n",
              "        [7],\n",
              "        [3],\n",
              "        [7]]),\n",
              " array([[4, 5],\n",
              "        [8, 9],\n",
              "        [2, 1],\n",
              "        [8, 2]])]"
            ]
          },
          "metadata": {},
          "execution_count": 269
        }
      ]
    },
    {
      "cell_type": "code",
      "source": [
        "q[0]"
      ],
      "metadata": {
        "colab": {
          "base_uri": "https://localhost:8080/"
        },
        "id": "rT-Tlxz0_mHu",
        "outputId": "c998af73-fb0e-4a90-d858-0129afdf7dd3"
      },
      "execution_count": null,
      "outputs": [
        {
          "output_type": "execute_result",
          "data": {
            "text/plain": [
              "array([[1, 2],\n",
              "       [5, 6],\n",
              "       [9, 4],\n",
              "       [3, 5]])"
            ]
          },
          "metadata": {},
          "execution_count": 233
        }
      ]
    },
    {
      "cell_type": "code",
      "source": [
        "q[1]"
      ],
      "metadata": {
        "colab": {
          "base_uri": "https://localhost:8080/"
        },
        "id": "PFxuFg4V_mJ2",
        "outputId": "b018abd1-4889-4005-a2aa-39cd70380ac3"
      },
      "execution_count": null,
      "outputs": [
        {
          "output_type": "execute_result",
          "data": {
            "text/plain": [
              "array([[3],\n",
              "       [7],\n",
              "       [3],\n",
              "       [7]])"
            ]
          },
          "metadata": {},
          "execution_count": 234
        }
      ]
    },
    {
      "cell_type": "code",
      "source": [
        "q[2]"
      ],
      "metadata": {
        "colab": {
          "base_uri": "https://localhost:8080/"
        },
        "id": "Csgf1vb8_mMF",
        "outputId": "fe426fbc-2811-416d-fce9-7815723ca803"
      },
      "execution_count": null,
      "outputs": [
        {
          "output_type": "execute_result",
          "data": {
            "text/plain": [
              "array([[4, 5],\n",
              "       [8, 9],\n",
              "       [2, 1],\n",
              "       [8, 2]])"
            ]
          },
          "metadata": {},
          "execution_count": 235
        }
      ]
    },
    {
      "cell_type": "code",
      "source": [
        "w = np.vsplit(n, np.array([3, 2]))"
      ],
      "metadata": {
        "id": "THkY4eemAAIj"
      },
      "execution_count": null,
      "outputs": []
    },
    {
      "cell_type": "code",
      "source": [
        "n"
      ],
      "metadata": {
        "colab": {
          "base_uri": "https://localhost:8080/"
        },
        "id": "ZvCSEiCCAAMV",
        "outputId": "c7a74b19-2d06-47d3-b503-110661f05f31"
      },
      "execution_count": null,
      "outputs": [
        {
          "output_type": "execute_result",
          "data": {
            "text/plain": [
              "array([[1, 2, 3, 4, 5],\n",
              "       [5, 6, 7, 8, 9],\n",
              "       [9, 4, 3, 2, 1],\n",
              "       [3, 5, 7, 8, 2]])"
            ]
          },
          "metadata": {},
          "execution_count": 249
        }
      ]
    },
    {
      "cell_type": "code",
      "source": [
        "w"
      ],
      "metadata": {
        "colab": {
          "base_uri": "https://localhost:8080/"
        },
        "id": "bWOibX-0AAWk",
        "outputId": "8ba7637a-95d3-483a-d58a-16bf492eaabe"
      },
      "execution_count": null,
      "outputs": [
        {
          "output_type": "execute_result",
          "data": {
            "text/plain": [
              "[array([[1, 2, 3, 4, 5],\n",
              "        [5, 6, 7, 8, 9],\n",
              "        [9, 4, 3, 2, 1]]),\n",
              " array([], shape=(0, 5), dtype=int64),\n",
              " array([[9, 4, 3, 2, 1],\n",
              "        [3, 5, 7, 8, 2]])]"
            ]
          },
          "metadata": {},
          "execution_count": 253
        }
      ]
    },
    {
      "cell_type": "code",
      "source": [
        "len(w)"
      ],
      "metadata": {
        "colab": {
          "base_uri": "https://localhost:8080/"
        },
        "id": "-DibL9rxAAZY",
        "outputId": "279e3b8f-669e-46c8-efef-eb43cbbfb596"
      },
      "execution_count": null,
      "outputs": [
        {
          "output_type": "execute_result",
          "data": {
            "text/plain": [
              "3"
            ]
          },
          "metadata": {},
          "execution_count": 273
        }
      ]
    },
    {
      "cell_type": "markdown",
      "source": [
        "Array Slicing - DAP\n",
        "Indexing"
      ],
      "metadata": {
        "id": "nWWhkbvEGfwI"
      }
    },
    {
      "cell_type": "code",
      "source": [
        "r = np.array([[1, 2, 3, 4], [5, 6, 7, 8], [9, 8, 7, 6], [2, 4, 5, 6]])"
      ],
      "metadata": {
        "id": "nXf_ZRjHAAd1"
      },
      "execution_count": null,
      "outputs": []
    },
    {
      "cell_type": "code",
      "source": [
        "r.shape"
      ],
      "metadata": {
        "colab": {
          "base_uri": "https://localhost:8080/"
        },
        "id": "lOZFMO3iGwSM",
        "outputId": "db95188f-24e9-4ad0-a11d-987679722c99"
      },
      "execution_count": null,
      "outputs": [
        {
          "output_type": "execute_result",
          "data": {
            "text/plain": [
              "(4, 4)"
            ]
          },
          "metadata": {},
          "execution_count": 275
        }
      ]
    },
    {
      "cell_type": "code",
      "source": [
        "r"
      ],
      "metadata": {
        "colab": {
          "base_uri": "https://localhost:8080/"
        },
        "id": "mZkFtrOVGwUi",
        "outputId": "b30011ee-5805-4761-d484-03b4f1abfbdb"
      },
      "execution_count": null,
      "outputs": [
        {
          "output_type": "execute_result",
          "data": {
            "text/plain": [
              "array([[1, 2, 3, 4],\n",
              "       [5, 6, 7, 8],\n",
              "       [9, 8, 7, 6],\n",
              "       [2, 4, 5, 6]])"
            ]
          },
          "metadata": {},
          "execution_count": 276
        }
      ]
    },
    {
      "cell_type": "code",
      "source": [
        "r.ndim"
      ],
      "metadata": {
        "colab": {
          "base_uri": "https://localhost:8080/"
        },
        "id": "qPh4yKaBGwW7",
        "outputId": "f4bb54f0-6f14-47e4-a4ee-c555ed7882dd"
      },
      "execution_count": null,
      "outputs": [
        {
          "output_type": "execute_result",
          "data": {
            "text/plain": [
              "2"
            ]
          },
          "metadata": {},
          "execution_count": 277
        }
      ]
    },
    {
      "cell_type": "code",
      "source": [
        "r.size"
      ],
      "metadata": {
        "colab": {
          "base_uri": "https://localhost:8080/"
        },
        "id": "LaGw6lOjGwZs",
        "outputId": "0b8ddf90-c9f3-43fd-b049-69cff39c0ba8"
      },
      "execution_count": null,
      "outputs": [
        {
          "output_type": "execute_result",
          "data": {
            "text/plain": [
              "16"
            ]
          },
          "metadata": {},
          "execution_count": 278
        }
      ]
    },
    {
      "cell_type": "code",
      "source": [
        "r[1]"
      ],
      "metadata": {
        "colab": {
          "base_uri": "https://localhost:8080/"
        },
        "id": "ebrYRRTdGwcU",
        "outputId": "4ee5a8f7-9234-4e42-977a-5a10d43344b3"
      },
      "execution_count": null,
      "outputs": [
        {
          "output_type": "execute_result",
          "data": {
            "text/plain": [
              "array([5, 6, 7, 8])"
            ]
          },
          "metadata": {},
          "execution_count": 279
        }
      ]
    },
    {
      "cell_type": "code",
      "source": [
        "t = np.array([1, 2, 3, 4, 5, 6, 7, 8, 9, 10])"
      ],
      "metadata": {
        "id": "J-XkgKhoHRCc"
      },
      "execution_count": null,
      "outputs": []
    },
    {
      "cell_type": "code",
      "source": [
        "t"
      ],
      "metadata": {
        "colab": {
          "base_uri": "https://localhost:8080/"
        },
        "id": "31BCtFb8HRE3",
        "outputId": "938a667a-914d-4003-e655-67b6fce545b1"
      },
      "execution_count": null,
      "outputs": [
        {
          "output_type": "execute_result",
          "data": {
            "text/plain": [
              "array([ 1,  2,  3,  4,  5,  6,  7,  8,  9, 10])"
            ]
          },
          "metadata": {},
          "execution_count": 281
        }
      ]
    },
    {
      "cell_type": "code",
      "source": [
        "t[:] #left side of : and right side of : are boundary conditions"
      ],
      "metadata": {
        "colab": {
          "base_uri": "https://localhost:8080/"
        },
        "id": "UJBO8Rm3HRHZ",
        "outputId": "cb8f3bfd-ea31-4a3b-d2c9-83c9e8138a0b"
      },
      "execution_count": null,
      "outputs": [
        {
          "output_type": "execute_result",
          "data": {
            "text/plain": [
              "array([ 1,  2,  3,  4,  5,  6,  7,  8,  9, 10])"
            ]
          },
          "metadata": {},
          "execution_count": 282
        }
      ]
    },
    {
      "cell_type": "code",
      "source": [
        "t[3:]"
      ],
      "metadata": {
        "colab": {
          "base_uri": "https://localhost:8080/"
        },
        "id": "N7TMUSAUHnU8",
        "outputId": "52c39aa5-f0af-4324-bf0f-b531a7f9b21c"
      },
      "execution_count": null,
      "outputs": [
        {
          "output_type": "execute_result",
          "data": {
            "text/plain": [
              "array([ 4,  5,  6,  7,  8,  9, 10])"
            ]
          },
          "metadata": {},
          "execution_count": 283
        }
      ]
    },
    {
      "cell_type": "code",
      "source": [
        "t[:3]"
      ],
      "metadata": {
        "colab": {
          "base_uri": "https://localhost:8080/"
        },
        "id": "2FDh--QhHRKa",
        "outputId": "3673cffe-79da-4cd2-ab41-e440c59e1c64"
      },
      "execution_count": null,
      "outputs": [
        {
          "output_type": "execute_result",
          "data": {
            "text/plain": [
              "array([1, 2, 3])"
            ]
          },
          "metadata": {},
          "execution_count": 284
        }
      ]
    },
    {
      "cell_type": "code",
      "source": [
        "t[:-3]"
      ],
      "metadata": {
        "colab": {
          "base_uri": "https://localhost:8080/"
        },
        "id": "RQYWaujgHRM-",
        "outputId": "be4935c1-9932-41b4-b861-f5ef6393d271"
      },
      "execution_count": null,
      "outputs": [
        {
          "output_type": "execute_result",
          "data": {
            "text/plain": [
              "array([1, 2, 3, 4, 5, 6, 7])"
            ]
          },
          "metadata": {},
          "execution_count": 285
        }
      ]
    },
    {
      "cell_type": "code",
      "source": [
        "t[3:-3]"
      ],
      "metadata": {
        "colab": {
          "base_uri": "https://localhost:8080/"
        },
        "id": "H0H6hOR8HRPT",
        "outputId": "a8f19c6e-666c-477a-850f-252434ee0003"
      },
      "execution_count": null,
      "outputs": [
        {
          "output_type": "execute_result",
          "data": {
            "text/plain": [
              "array([4, 5, 6, 7])"
            ]
          },
          "metadata": {},
          "execution_count": 286
        }
      ]
    },
    {
      "cell_type": "code",
      "source": [
        "r [ : , : ] # left side of : on the left are the boundary conditions for rows\n",
        "#right side of : on the right are are the boundary conditions for columns"
      ],
      "metadata": {
        "colab": {
          "base_uri": "https://localhost:8080/"
        },
        "id": "R2lTmW3fH7C3",
        "outputId": "ddcdefd5-e623-4886-8a93-603a57f02c6d"
      },
      "execution_count": null,
      "outputs": [
        {
          "output_type": "execute_result",
          "data": {
            "text/plain": [
              "array([[1, 2, 3, 4],\n",
              "       [5, 6, 7, 8],\n",
              "       [9, 8, 7, 6],\n",
              "       [2, 4, 5, 6]])"
            ]
          },
          "metadata": {},
          "execution_count": 287
        }
      ]
    },
    {
      "cell_type": "code",
      "source": [
        "r [ 1 : , 1 : 3 ] #remaining elements after the intersection point"
      ],
      "metadata": {
        "colab": {
          "base_uri": "https://localhost:8080/"
        },
        "id": "sxjsqe1fHRTz",
        "outputId": "f831913f-c8fb-4767-9a33-0f4e2515fa99"
      },
      "execution_count": null,
      "outputs": [
        {
          "output_type": "execute_result",
          "data": {
            "text/plain": [
              "array([[6, 7],\n",
              "       [8, 7],\n",
              "       [4, 5]])"
            ]
          },
          "metadata": {},
          "execution_count": 298
        }
      ]
    },
    {
      "cell_type": "code",
      "source": [
        "r [ : 1, : 1] # except the intersection point"
      ],
      "metadata": {
        "colab": {
          "base_uri": "https://localhost:8080/"
        },
        "id": "p2cv_C0dIF8X",
        "outputId": "5ddd7e66-6f3f-4c51-fc70-192f9225dad7"
      },
      "execution_count": null,
      "outputs": [
        {
          "output_type": "execute_result",
          "data": {
            "text/plain": [
              "array([[1]])"
            ]
          },
          "metadata": {},
          "execution_count": 302
        }
      ]
    },
    {
      "cell_type": "code",
      "source": [
        "r [2 , 1] #intersection point"
      ],
      "metadata": {
        "colab": {
          "base_uri": "https://localhost:8080/"
        },
        "id": "pykZMWY6IF_E",
        "outputId": "ec591ef1-3c6a-4820-d867-ac9e5a359dd6"
      },
      "execution_count": null,
      "outputs": [
        {
          "output_type": "execute_result",
          "data": {
            "text/plain": [
              "8"
            ]
          },
          "metadata": {},
          "execution_count": 305
        }
      ]
    },
    {
      "cell_type": "code",
      "source": [
        "r [1:2 , 2:3]"
      ],
      "metadata": {
        "colab": {
          "base_uri": "https://localhost:8080/"
        },
        "id": "Y2hLHEVTIGBs",
        "outputId": "37d4640e-8bf2-4e05-ff32-4e16c8bd274b"
      },
      "execution_count": null,
      "outputs": [
        {
          "output_type": "execute_result",
          "data": {
            "text/plain": [
              "array([[7]])"
            ]
          },
          "metadata": {},
          "execution_count": 307
        }
      ]
    },
    {
      "cell_type": "markdown",
      "source": [
        "Automating with Numpy"
      ],
      "metadata": {
        "id": "3niQ_NF3LOLu"
      }
    },
    {
      "cell_type": "code",
      "source": [
        "lst = [1, 2, 3, 4, 5, 6, 7, 8, 9, 10]"
      ],
      "metadata": {
        "id": "sitG7AipIGEt"
      },
      "execution_count": null,
      "outputs": []
    },
    {
      "cell_type": "code",
      "source": [
        "count = 0\n",
        "for i in lst:\n",
        "  if i > 5:\n",
        "    count += 1\n",
        "print(count)"
      ],
      "metadata": {
        "colab": {
          "base_uri": "https://localhost:8080/"
        },
        "id": "osdMve_RIGHb",
        "outputId": "a1a951a6-4d5b-4be1-bfb4-b0248b5c4063"
      },
      "execution_count": null,
      "outputs": [
        {
          "output_type": "stream",
          "name": "stdout",
          "text": [
            "5\n"
          ]
        }
      ]
    },
    {
      "cell_type": "code",
      "source": [
        "lst"
      ],
      "metadata": {
        "colab": {
          "base_uri": "https://localhost:8080/"
        },
        "id": "tkuNZsb0IGKy",
        "outputId": "3f0b5458-89c3-4ad5-9033-7a11f78fadfa"
      },
      "execution_count": null,
      "outputs": [
        {
          "output_type": "execute_result",
          "data": {
            "text/plain": [
              "[1, 2, 3, 4, 5, 6, 7, 8, 9, 10]"
            ]
          },
          "metadata": {},
          "execution_count": 310
        }
      ]
    },
    {
      "cell_type": "code",
      "source": [
        "lst = np.array([1, 2, 3, 4, 5, 6, 7, 8, 9, 10])"
      ],
      "metadata": {
        "id": "6u_Bk-pCIGNj"
      },
      "execution_count": null,
      "outputs": []
    },
    {
      "cell_type": "code",
      "source": [
        "lst > 5"
      ],
      "metadata": {
        "colab": {
          "base_uri": "https://localhost:8080/"
        },
        "id": "JvitFrSPHRWP",
        "outputId": "a0725ae8-88d9-4876-a0da-2070aa3c5268"
      },
      "execution_count": null,
      "outputs": [
        {
          "output_type": "execute_result",
          "data": {
            "text/plain": [
              "array([False, False, False, False, False,  True,  True,  True,  True,\n",
              "        True])"
            ]
          },
          "metadata": {},
          "execution_count": 312
        }
      ]
    },
    {
      "cell_type": "code",
      "source": [
        "lst[lst > 5]"
      ],
      "metadata": {
        "colab": {
          "base_uri": "https://localhost:8080/"
        },
        "id": "mOy8msPJMcai",
        "outputId": "021e2e8e-0778-48a6-8e16-714ff11df454"
      },
      "execution_count": null,
      "outputs": [
        {
          "output_type": "execute_result",
          "data": {
            "text/plain": [
              "array([ 6,  7,  8,  9, 10])"
            ]
          },
          "metadata": {},
          "execution_count": 319
        }
      ]
    },
    {
      "cell_type": "code",
      "source": [
        "u = np.array(lst)"
      ],
      "metadata": {
        "id": "XZd7tXzMHRY5"
      },
      "execution_count": null,
      "outputs": []
    },
    {
      "cell_type": "code",
      "source": [
        "u"
      ],
      "metadata": {
        "colab": {
          "base_uri": "https://localhost:8080/"
        },
        "id": "Yt-IcOvwHRdj",
        "outputId": "c8d95947-fad5-4d74-f10c-736c9986910d"
      },
      "execution_count": null,
      "outputs": [
        {
          "output_type": "execute_result",
          "data": {
            "text/plain": [
              "array([ 1,  2,  3,  4,  5,  6,  7,  8,  9, 10])"
            ]
          },
          "metadata": {},
          "execution_count": 314
        }
      ]
    },
    {
      "cell_type": "code",
      "source": [
        "u < 9 # gives a boolean value as T or F as per the condition"
      ],
      "metadata": {
        "colab": {
          "base_uri": "https://localhost:8080/"
        },
        "id": "JEyQZFO2HRik",
        "outputId": "44c019e5-f808-428b-d07c-2775c29f727a"
      },
      "execution_count": null,
      "outputs": [
        {
          "output_type": "execute_result",
          "data": {
            "text/plain": [
              "array([ True,  True,  True,  True,  True,  True,  True,  True, False,\n",
              "       False])"
            ]
          },
          "metadata": {},
          "execution_count": 317
        }
      ]
    },
    {
      "cell_type": "code",
      "source": [
        "u[ u < 9]  # passing this through the orignal array and\n",
        "           #it gives the actual elements of the array"
      ],
      "metadata": {
        "colab": {
          "base_uri": "https://localhost:8080/"
        },
        "id": "Xv_3TV5qHRlg",
        "outputId": "7896f4ef-9824-4de9-88f3-c42e9e7ac0c3"
      },
      "execution_count": null,
      "outputs": [
        {
          "output_type": "execute_result",
          "data": {
            "text/plain": [
              "array([1, 2, 3, 4, 5, 6, 7, 8])"
            ]
          },
          "metadata": {},
          "execution_count": 320
        }
      ]
    },
    {
      "cell_type": "code",
      "source": [
        "len(u[u<9]) # len of the array"
      ],
      "metadata": {
        "colab": {
          "base_uri": "https://localhost:8080/"
        },
        "id": "Mg4--hFKGwe8",
        "outputId": "bf582cea-96fd-475a-8c8d-d6b07e6d7baf"
      },
      "execution_count": null,
      "outputs": [
        {
          "output_type": "execute_result",
          "data": {
            "text/plain": [
              "8"
            ]
          },
          "metadata": {},
          "execution_count": 321
        }
      ]
    },
    {
      "cell_type": "code",
      "source": [
        "print(len(u[u<9])) # prints the len of the numbers as per the condition\n",
        "print(u[ u < 9]) # prints the number of elements as per the condition"
      ],
      "metadata": {
        "colab": {
          "base_uri": "https://localhost:8080/"
        },
        "id": "Qzc_c7S2Gwhf",
        "outputId": "bf22004a-d651-42fc-8229-d94362a452d2"
      },
      "execution_count": null,
      "outputs": [
        {
          "output_type": "stream",
          "name": "stdout",
          "text": [
            "8\n",
            "[1 2 3 4 5 6 7 8]\n"
          ]
        }
      ]
    },
    {
      "cell_type": "code",
      "source": [
        "print(len(u[u % 3 == 0]))\n",
        "print(u[ u % 3 == 0])"
      ],
      "metadata": {
        "colab": {
          "base_uri": "https://localhost:8080/"
        },
        "id": "aKKRd8ASMzA8",
        "outputId": "b6fb86eb-1cea-41e9-ca92-20fc7fb65f06"
      },
      "execution_count": null,
      "outputs": [
        {
          "output_type": "stream",
          "name": "stdout",
          "text": [
            "3\n",
            "[3 6 9]\n"
          ]
        }
      ]
    },
    {
      "cell_type": "code",
      "source": [
        "c = np.array([6, 7, 5, 8])\n",
        "d = np.array([4, 3, 7, 8])"
      ],
      "metadata": {
        "id": "5Zbnw_3EMzDl"
      },
      "execution_count": null,
      "outputs": []
    },
    {
      "cell_type": "code",
      "source": [
        "pro = c.dot(d)"
      ],
      "metadata": {
        "id": "Yl0Nb_ZCMzF6"
      },
      "execution_count": null,
      "outputs": []
    },
    {
      "cell_type": "code",
      "source": [
        "pro"
      ],
      "metadata": {
        "id": "imAI6QQRMzI9",
        "colab": {
          "base_uri": "https://localhost:8080/"
        },
        "outputId": "bb908a01-f478-4232-f773-3a5e603e90e2"
      },
      "execution_count": null,
      "outputs": [
        {
          "output_type": "execute_result",
          "data": {
            "text/plain": [
              "144"
            ]
          },
          "metadata": {},
          "execution_count": 331
        }
      ]
    },
    {
      "cell_type": "code",
      "source": [
        "s = np.array([1, 2, 3, 4, 5, 6, 7, 8, 9, 0])"
      ],
      "metadata": {
        "id": "Mj1cvHBrMzL-"
      },
      "execution_count": null,
      "outputs": []
    },
    {
      "cell_type": "code",
      "source": [
        "s [ 1 : 2]"
      ],
      "metadata": {
        "id": "-uHsZdxQMzOp",
        "colab": {
          "base_uri": "https://localhost:8080/"
        },
        "outputId": "1282887c-6b07-4b44-a001-1b3742c6346d"
      },
      "execution_count": null,
      "outputs": [
        {
          "output_type": "execute_result",
          "data": {
            "text/plain": [
              "array([2])"
            ]
          },
          "metadata": {},
          "execution_count": 337
        }
      ]
    },
    {
      "cell_type": "code",
      "source": [
        "s [ 1 :: 2]"
      ],
      "metadata": {
        "id": "HN3wP7ZgGwjo",
        "colab": {
          "base_uri": "https://localhost:8080/"
        },
        "outputId": "7ebcb002-c4f4-4eb5-a9ef-9e1d45bfa74f"
      },
      "execution_count": null,
      "outputs": [
        {
          "output_type": "execute_result",
          "data": {
            "text/plain": [
              "array([1, 3, 5, 7, 9])"
            ]
          },
          "metadata": {},
          "execution_count": 336
        }
      ]
    },
    {
      "cell_type": "code",
      "source": [
        "e = np.stack((c, d), axis=1)"
      ],
      "metadata": {
        "id": "Uf04I8pFGwma"
      },
      "execution_count": null,
      "outputs": []
    },
    {
      "cell_type": "code",
      "source": [
        "e"
      ],
      "metadata": {
        "id": "c4Ah9d3cGwpF",
        "colab": {
          "base_uri": "https://localhost:8080/"
        },
        "outputId": "b16f5ed9-9616-45d0-e396-6beb8d74e862"
      },
      "execution_count": null,
      "outputs": [
        {
          "output_type": "execute_result",
          "data": {
            "text/plain": [
              "array([[6, 4],\n",
              "       [7, 3],\n",
              "       [5, 7],\n",
              "       [8, 8]])"
            ]
          },
          "metadata": {},
          "execution_count": 339
        }
      ]
    },
    {
      "cell_type": "code",
      "source": [
        "l"
      ],
      "metadata": {
        "id": "nKRQkDhWGwr5",
        "colab": {
          "base_uri": "https://localhost:8080/"
        },
        "outputId": "f88fcabd-0a5a-44a5-fd43-a9bbb6612d2f"
      },
      "execution_count": null,
      "outputs": [
        {
          "output_type": "execute_result",
          "data": {
            "text/plain": [
              "array([[1, 2, 3, 4, 5],\n",
              "       [5, 6, 7, 8, 9]])"
            ]
          },
          "metadata": {},
          "execution_count": 341
        }
      ]
    },
    {
      "cell_type": "code",
      "source": [
        "m"
      ],
      "metadata": {
        "colab": {
          "base_uri": "https://localhost:8080/"
        },
        "id": "AM-Hel-WWCU-",
        "outputId": "637288f8-5ff4-4bad-ac93-7b35bbe98ffc"
      },
      "execution_count": null,
      "outputs": [
        {
          "output_type": "execute_result",
          "data": {
            "text/plain": [
              "array([[9, 4, 3, 2, 1],\n",
              "       [3, 5, 7, 8, 2]])"
            ]
          },
          "metadata": {},
          "execution_count": 342
        }
      ]
    },
    {
      "cell_type": "code",
      "source": [
        "np.stack((l, m), axis = 1)"
      ],
      "metadata": {
        "colab": {
          "base_uri": "https://localhost:8080/"
        },
        "id": "Esmnd4gfWCYP",
        "outputId": "314c629c-7af4-40bb-a7bf-aed2c21e88b9"
      },
      "execution_count": null,
      "outputs": [
        {
          "output_type": "execute_result",
          "data": {
            "text/plain": [
              "array([[[1, 2, 3, 4, 5],\n",
              "        [9, 4, 3, 2, 1]],\n",
              "\n",
              "       [[5, 6, 7, 8, 9],\n",
              "        [3, 5, 7, 8, 2]]])"
            ]
          },
          "metadata": {},
          "execution_count": 344
        }
      ]
    },
    {
      "cell_type": "code",
      "source": [
        "a = np.array([[1, 2], [3, 4]])\n",
        "b = np.array([[5, 6]])"
      ],
      "metadata": {
        "id": "G6bb4hMOX26S"
      },
      "execution_count": null,
      "outputs": []
    },
    {
      "cell_type": "code",
      "source": [
        "a"
      ],
      "metadata": {
        "colab": {
          "base_uri": "https://localhost:8080/"
        },
        "id": "_yGTfWoiX28w",
        "outputId": "6a6ad0c8-14a7-48f1-fbb2-81242f236697"
      },
      "execution_count": null,
      "outputs": [
        {
          "output_type": "execute_result",
          "data": {
            "text/plain": [
              "array([[1, 2],\n",
              "       [3, 4]])"
            ]
          },
          "metadata": {},
          "execution_count": 352
        }
      ]
    },
    {
      "cell_type": "code",
      "source": [
        "b"
      ],
      "metadata": {
        "colab": {
          "base_uri": "https://localhost:8080/"
        },
        "id": "iaxg3kxrX2-7",
        "outputId": "1ea5f321-5ec1-4b61-b62b-546b2f379b0f"
      },
      "execution_count": null,
      "outputs": [
        {
          "output_type": "execute_result",
          "data": {
            "text/plain": [
              "array([[5, 6]])"
            ]
          },
          "metadata": {},
          "execution_count": 353
        }
      ]
    },
    {
      "cell_type": "code",
      "source": [
        "b.T"
      ],
      "metadata": {
        "colab": {
          "base_uri": "https://localhost:8080/"
        },
        "id": "pA2QGM5AX3B8",
        "outputId": "91a5ca6b-4077-4157-f6d0-d1f84c9aff8f"
      },
      "execution_count": null,
      "outputs": [
        {
          "output_type": "execute_result",
          "data": {
            "text/plain": [
              "array([[5],\n",
              "       [6]])"
            ]
          },
          "metadata": {},
          "execution_count": 354
        }
      ]
    },
    {
      "cell_type": "code",
      "source": [
        "np.concatenate((a, b.T), axis =1)"
      ],
      "metadata": {
        "colab": {
          "base_uri": "https://localhost:8080/"
        },
        "id": "hlf9AHeHX3Ea",
        "outputId": "bd9e06d2-5115-4697-bf54-6bda336f31d3"
      },
      "execution_count": null,
      "outputs": [
        {
          "output_type": "execute_result",
          "data": {
            "text/plain": [
              "array([[1, 2, 5],\n",
              "       [3, 4, 6]])"
            ]
          },
          "metadata": {},
          "execution_count": 355
        }
      ]
    },
    {
      "cell_type": "code",
      "source": [
        "np.column_stack((l, m))"
      ],
      "metadata": {
        "colab": {
          "base_uri": "https://localhost:8080/"
        },
        "id": "bjwu5zowZmet",
        "outputId": "2736e79a-2c06-43d8-e1a7-5a000a3be1b6"
      },
      "execution_count": null,
      "outputs": [
        {
          "output_type": "execute_result",
          "data": {
            "text/plain": [
              "array([[1, 2, 3, 4, 5, 9, 4, 3, 2, 1],\n",
              "       [5, 6, 7, 8, 9, 3, 5, 7, 8, 2]])"
            ]
          },
          "metadata": {},
          "execution_count": 356
        }
      ]
    }
  ]
}